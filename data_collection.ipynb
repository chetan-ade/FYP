{
  "nbformat": 4,
  "nbformat_minor": 0,
  "metadata": {
    "kernelspec": {
      "display_name": "Python 3",
      "language": "python",
      "name": "python3"
    },
    "language_info": {
      "codemirror_mode": {
        "name": "ipython",
        "version": 3
      },
      "file_extension": ".py",
      "mimetype": "text/x-python",
      "name": "python",
      "nbconvert_exporter": "python",
      "pygments_lexer": "ipython3",
      "version": "3.7.3"
    },
    "colab": {
      "name": "data_collection.ipynb",
      "provenance": [],
      "collapsed_sections": [],
      "include_colab_link": true
    }
  },
  "cells": [
    {
      "cell_type": "markdown",
      "metadata": {
        "id": "view-in-github",
        "colab_type": "text"
      },
      "source": [
        "<a href=\"https://colab.research.google.com/github/chetan-ade/FYP/blob/master/data_collection.ipynb\" target=\"_parent\"><img src=\"https://colab.research.google.com/assets/colab-badge.svg\" alt=\"Open In Colab\"/></a>"
      ]
    },
    {
      "cell_type": "code",
      "metadata": {
        "id": "JsE3KrDBtjce",
        "colab_type": "code",
        "outputId": "f8163d1e-db1d-4efc-b17f-3c4e819e4838",
        "colab": {
          "base_uri": "https://localhost:8080/",
          "height": 918
        }
      },
      "source": [
        "!pip install requests\n",
        "!pip install wwo_hist\n",
        "!pip install datetime\n",
        "!pip install numpy\n",
        "!pip install scipy\n",
        "!pip install matplotlib\n",
        "!pip install pompy"
      ],
      "execution_count": 0,
      "outputs": [
        {
          "output_type": "stream",
          "text": [
            "Requirement already satisfied: requests in /usr/local/lib/python3.6/dist-packages (2.21.0)\n",
            "Requirement already satisfied: idna<2.9,>=2.5 in /usr/local/lib/python3.6/dist-packages (from requests) (2.8)\n",
            "Requirement already satisfied: certifi>=2017.4.17 in /usr/local/lib/python3.6/dist-packages (from requests) (2019.11.28)\n",
            "Requirement already satisfied: chardet<3.1.0,>=3.0.2 in /usr/local/lib/python3.6/dist-packages (from requests) (3.0.4)\n",
            "Requirement already satisfied: urllib3<1.25,>=1.21.1 in /usr/local/lib/python3.6/dist-packages (from requests) (1.24.3)\n",
            "Collecting wwo_hist\n",
            "  Downloading https://files.pythonhosted.org/packages/9e/4b/e4f82813f1bd33195ca5eca204c7c312850592aba45dd819de0f2250d7fd/wwo_hist-0.0.4.tar.gz\n",
            "Building wheels for collected packages: wwo-hist\n",
            "  Building wheel for wwo-hist (setup.py) ... \u001b[?25l\u001b[?25hdone\n",
            "  Created wheel for wwo-hist: filename=wwo_hist-0.0.4-cp36-none-any.whl size=4216 sha256=cbd636d2f5a4999582ce87de01bee38821bac895898f2c3eee04d05e2d49ab81\n",
            "  Stored in directory: /root/.cache/pip/wheels/c5/0e/16/329d9233f3b0b7e5fe81b09c5519a193727999c6ae77577ca9\n",
            "Successfully built wwo-hist\n",
            "Installing collected packages: wwo-hist\n",
            "Successfully installed wwo-hist-0.0.4\n",
            "Collecting datetime\n",
            "\u001b[?25l  Downloading https://files.pythonhosted.org/packages/73/22/a5297f3a1f92468cc737f8ce7ba6e5f245fcfafeae810ba37bd1039ea01c/DateTime-4.3-py2.py3-none-any.whl (60kB)\n",
            "\u001b[K     |████████████████████████████████| 61kB 3.0MB/s \n",
            "\u001b[?25hRequirement already satisfied: pytz in /usr/local/lib/python3.6/dist-packages (from datetime) (2018.9)\n",
            "Collecting zope.interface\n",
            "\u001b[?25l  Downloading https://files.pythonhosted.org/packages/83/29/7776dac0dcbbb6afc2dc5a30c0610338873c4f759eb0f5dc88fe28147030/zope.interface-5.0.0-cp36-cp36m-manylinux2010_x86_64.whl (225kB)\n",
            "\u001b[K     |████████████████████████████████| 235kB 8.5MB/s \n",
            "\u001b[?25hRequirement already satisfied: setuptools in /usr/local/lib/python3.6/dist-packages (from zope.interface->datetime) (46.0.0)\n",
            "Installing collected packages: zope.interface, datetime\n",
            "Successfully installed datetime-4.3 zope.interface-5.0.0\n",
            "Requirement already satisfied: numpy in /usr/local/lib/python3.6/dist-packages (1.18.2)\n",
            "Requirement already satisfied: scipy in /usr/local/lib/python3.6/dist-packages (1.4.1)\n",
            "Requirement already satisfied: numpy>=1.13.3 in /usr/local/lib/python3.6/dist-packages (from scipy) (1.18.2)\n",
            "Requirement already satisfied: matplotlib in /usr/local/lib/python3.6/dist-packages (3.2.0)\n",
            "Requirement already satisfied: cycler>=0.10 in /usr/local/lib/python3.6/dist-packages (from matplotlib) (0.10.0)\n",
            "Requirement already satisfied: python-dateutil>=2.1 in /usr/local/lib/python3.6/dist-packages (from matplotlib) (2.8.1)\n",
            "Requirement already satisfied: pyparsing!=2.0.4,!=2.1.2,!=2.1.6,>=2.0.1 in /usr/local/lib/python3.6/dist-packages (from matplotlib) (2.4.6)\n",
            "Requirement already satisfied: numpy>=1.11 in /usr/local/lib/python3.6/dist-packages (from matplotlib) (1.18.2)\n",
            "Requirement already satisfied: kiwisolver>=1.0.1 in /usr/local/lib/python3.6/dist-packages (from matplotlib) (1.1.0)\n",
            "Requirement already satisfied: six in /usr/local/lib/python3.6/dist-packages (from cycler>=0.10->matplotlib) (1.12.0)\n",
            "Requirement already satisfied: setuptools in /usr/local/lib/python3.6/dist-packages (from kiwisolver>=1.0.1->matplotlib) (46.0.0)\n",
            "Collecting pompy\n",
            "  Downloading https://files.pythonhosted.org/packages/07/af/57782c629e27ab549d9e5052468a9e1a600fbbf8dbd8dac33f23960d3b4c/pompy-0.1.1.tar.gz\n",
            "Requirement already satisfied: numpy in /usr/local/lib/python3.6/dist-packages (from pompy) (1.18.2)\n",
            "Requirement already satisfied: scipy in /usr/local/lib/python3.6/dist-packages (from pompy) (1.4.1)\n",
            "Requirement already satisfied: matplotlib in /usr/local/lib/python3.6/dist-packages (from pompy) (3.2.0)\n",
            "Requirement already satisfied: cycler>=0.10 in /usr/local/lib/python3.6/dist-packages (from matplotlib->pompy) (0.10.0)\n",
            "Requirement already satisfied: python-dateutil>=2.1 in /usr/local/lib/python3.6/dist-packages (from matplotlib->pompy) (2.8.1)\n",
            "Requirement already satisfied: pyparsing!=2.0.4,!=2.1.2,!=2.1.6,>=2.0.1 in /usr/local/lib/python3.6/dist-packages (from matplotlib->pompy) (2.4.6)\n",
            "Requirement already satisfied: kiwisolver>=1.0.1 in /usr/local/lib/python3.6/dist-packages (from matplotlib->pompy) (1.1.0)\n",
            "Requirement already satisfied: six in /usr/local/lib/python3.6/dist-packages (from cycler>=0.10->matplotlib->pompy) (1.12.0)\n",
            "Requirement already satisfied: setuptools in /usr/local/lib/python3.6/dist-packages (from kiwisolver>=1.0.1->matplotlib->pompy) (46.0.0)\n",
            "Building wheels for collected packages: pompy\n",
            "  Building wheel for pompy (setup.py) ... \u001b[?25l\u001b[?25hdone\n",
            "  Created wheel for pompy: filename=pompy-0.1.1-cp36-none-any.whl size=17006 sha256=56c536197ac2abea1e5996ca27d0d80be98c3793e23202243a18380148171048\n",
            "  Stored in directory: /root/.cache/pip/wheels/de/af/e1/8d78a0942c286ffc595d4232c22dbdb06ec868e3c131ad8c8c\n",
            "Successfully built pompy\n",
            "Installing collected packages: pompy\n",
            "Successfully installed pompy-0.1.1\n"
          ],
          "name": "stdout"
        }
      ]
    },
    {
      "cell_type": "code",
      "metadata": {
        "id": "3Rq0lAaZ6MQq",
        "colab_type": "code",
        "colab": {}
      },
      "source": [
        "import os\n",
        "import csv\n",
        "import requests\n",
        "import datetime\n",
        "from datetime import date\n",
        "from wwo_hist import retrieve_hist_data\n",
        "\n",
        "#PATH TO SAVE CSV FILE\n",
        "os.chdir(\"/content\")\n",
        "\n",
        "api_key = '91a5c7d65b78493086651634202801'\n",
        "start_date = '01-JUL-2008'\n",
        "end_date = date.today().strftime(\"%d-%b-%Y\").upper()\n",
        "frequency= 24\n",
        "\n",
        "url = 'http://api.worldweatheronline.com/premium/v1/weather.ashx?'\n",
        "\n",
        "params = {\n",
        "    'key': api_key,\n",
        "    'num_of_days': '1',\n",
        "    'tp': '24',\n",
        "    'cc': 'no',\n",
        "    'mca': 'no',\n",
        "    'format': 'json',\n",
        "    'includelocation': 'yes',\n",
        "    'q': None,\n",
        "    'date': None,\n",
        "    }\n",
        "\n",
        "def getHistoricalData(location):\n",
        "    hist_weather_data = retrieve_hist_data(api_key, [location], start_date, end_date, frequency, location_label = False, export_csv = True, store_df = False)\n",
        "\n",
        "def getPredictedData(location):\n",
        "    apiList = []\n",
        "    params['q'] = location\n",
        "    for i in range(16):\n",
        "        curDate = (datetime.datetime.today() + datetime.timedelta(days=i)).strftime('%Y-%m-%d')\n",
        "        params['date'] = curDate\n",
        "        r = requests.get(url = url, params = params)\n",
        "        dataJson = r.json()\n",
        "        location = dataJson['data']['nearest_area'][0]['areaName'][0]['value']\n",
        "        curDir = dataJson['data']['weather'][0]['hourly'][0]['winddirDegree']\n",
        "        curSpd = dataJson['data']['weather'][0]['hourly'][0]['windspeedKmph']\n",
        "        element = {'Date':curDate,'Direction': curDir, 'Speed': curSpd}\n",
        "        apiList.append(element)\n",
        "    print(location)\n",
        "    print(apiList)\n",
        "    return (apiList,location)\n",
        "\n",
        "def listToCSV(dataList,csv_file):\n",
        "    csv_columns = ['Date','Direction','Speed']\n",
        "    # csv_file = \"PredictedFromAPI.csv\"\n",
        "    try:\n",
        "        with open(csv_file, 'w') as csvfile:\n",
        "            writer = csv.DictWriter(csvfile, fieldnames=csv_columns)\n",
        "            writer.writeheader()\n",
        "            for data in dataList:\n",
        "                writer.writerow(data)\n",
        "    except IOError:\n",
        "        print(\"Error while creating\",csv_file)\n",
        "\n",
        "def createWindList(apiList,modelList):\n",
        "    windList = []\n",
        "    for i in range(len(apiList)):\n",
        "        Date = apiList[i]['Date']\n",
        "        Direction = (int(apiList[i]['Direction']) + int(modelList[i]['Direction']))/2\n",
        "        Speed = (int(apiList[i]['Speed']) + int(modelList[i]['Speed']))/2\n",
        "        windList.append({'Date':Date,'Direction':str(Direction),'Speed':str(Speed)})\n",
        "    print(windList)\n",
        "\n"
      ],
      "execution_count": 0,
      "outputs": []
    },
    {
      "cell_type": "code",
      "metadata": {
        "id": "dJ4RhvhCt56i",
        "colab_type": "code",
        "outputId": "0e4b210c-45d8-4a3b-bf69-629372757e64",
        "colab": {
          "base_uri": "https://localhost:8080/",
          "height": 71
        }
      },
      "source": [
        "apiList,location = getPredictedData('19.0368,73.0158')"
      ],
      "execution_count": 0,
      "outputs": [
        {
          "output_type": "stream",
          "text": [
            "Belapurpada\n",
            "[{'Date': '2020-03-21', 'Direction': '200', 'Speed': '8'}, {'Date': '2020-03-22', 'Direction': '192', 'Speed': '10'}, {'Date': '2020-03-23', 'Direction': '185', 'Speed': '9'}, {'Date': '2020-03-24', 'Direction': '213', 'Speed': '9'}, {'Date': '2020-03-25', 'Direction': '189', 'Speed': '12'}, {'Date': '2020-03-26', 'Direction': '194', 'Speed': '8'}, {'Date': '2020-03-27', 'Direction': '218', 'Speed': '10'}, {'Date': '2020-03-28', 'Direction': '144', 'Speed': '9'}, {'Date': '2020-03-29', 'Direction': '180', 'Speed': '8'}, {'Date': '2020-03-30', 'Direction': '187', 'Speed': '9'}, {'Date': '2020-03-31', 'Direction': '246', 'Speed': '10'}, {'Date': '2020-04-01', 'Direction': '179', 'Speed': '10'}, {'Date': '2020-04-02', 'Direction': '255', 'Speed': '12'}, {'Date': '2020-04-03', 'Direction': '237', 'Speed': '12'}, {'Date': '2020-04-04', 'Direction': '199', 'Speed': '8'}, {'Date': '2020-04-05', 'Direction': '241', 'Speed': '9'}]\n"
          ],
          "name": "stdout"
        }
      ]
    },
    {
      "cell_type": "code",
      "metadata": {
        "id": "iWm_T43GuH_g",
        "colab_type": "code",
        "colab": {}
      },
      "source": [
        "getHistoricalData(location)"
      ],
      "execution_count": 0,
      "outputs": []
    },
    {
      "cell_type": "markdown",
      "metadata": {
        "id": "8cmi2_EibvIL",
        "colab_type": "text"
      },
      "source": [
        "# Useful Information"
      ]
    },
    {
      "cell_type": "markdown",
      "metadata": {
        "id": "5NXClOMS6MQo",
        "colab_type": "text"
      },
      "source": [
        "Data is being collected from various sources as listed below:\n",
        "\n",
        "1.   World Weather Online\n",
        "     <br>Link: https://www.worldweatheronline.com/developer/\n",
        "     <br>Supporting Package: https://pypi.org/project/wwo-hist/ \n",
        "    \n",
        "     World Weather Online’s allows users to receive weather data from 1st July 2008 until present day. \n",
        "     <br>A supporting package <i>wwo-hist</i> is used to retrieve and transform historical weather data from World Weather Online into csv file.\n",
        "     <br>wwo-hist is not installed by default and is installed by :\n",
        "     > !pip install wwo-hist\n",
        "     \n",
        "     An API Key is required to retrieve data from World Weather Online. \n",
        "     <br>Free trial API is used. \n",
        "     <br>It lasts for 60 days, allows 500 requests per day and requires no credit card.\n",
        "     > API KEY = 91a5c7d65b78493086651634202801\n",
        "     <br>Key generated on : 28 Jan 2020\n",
        "     \n",
        "     From wwo-hist, we use the <i>retrieve_hist_data()</i> function which has the following parameters :\n",
        "     \n",
        "     <i>api_key: string</i>\n",
        "     <br>(Premium/ free trial) API key from worldweatheronline.com\n",
        "\n",
        "     <i>location_list: list of string</i>\n",
        "     <br>S Zipcode, UK Postcode, Canada Postalcode, IP address, Latitude/Longitude (decimal degree) or city name\n",
        "\n",
        "     <i>start_date: string</i>\n",
        "     <br>Preferred date format: 'dd-mmm-yyyy'\n",
        "\n",
        "     <i>end_date: string</i>\n",
        "     <br>Preferred date format: 'dd-mmm-yyyy'\n",
        "\n",
        "     <i>frequency: integer</i>\n",
        "     <br>1, 3, 6, 12, 24\n",
        "     <br>1 hourly, 3 hourly, 6 hourly, 12 hourly (day/night) or 24 hourly (day average)\n",
        "\n",
        "     <i>location_label: bool, default = False</i>\n",
        "     <br>If True, all column names will have city name as prefix.\n",
        "\n",
        "     <i>export_csv: bool, default = True</i>\n",
        "     <br>If False, no csv file will be exported to current directory.\n",
        "\n",
        "     <i>store_df: bool, default = False</i>\n",
        "     <br>If True, retrieved dataframe(s) will be stored as list in the work space.\n",
        "     \n",
        "     * Drawback- City name must be a single word. Weather can be retrieved using Latitude OR Longitude, NOT BOTH.\n",
        "2.   Local Weather API\n",
        "     <br>Link: https://www.worldweatheronline.com/developer/api/docs/local-city-town-weather-api.aspx\n",
        "\n",
        "     This API is a service provided by World Weather Online.<br>It is used to retrieve weather data for the next 15 days.<br>The acquired data is then used in order to further increase the accuracy of prediction."
      ]
    }
  ]
}