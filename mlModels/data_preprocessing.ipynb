{
  "nbformat": 4,
  "nbformat_minor": 0,
  "metadata": {
    "colab": {
      "name": "data_preprocessing.ipynb",
      "provenance": [],
      "collapsed_sections": [],
      "include_colab_link": true
    },
    "kernelspec": {
      "name": "python3",
      "display_name": "Python 3"
    },
    "accelerator": "GPU"
  },
  "cells": [
    {
      "cell_type": "markdown",
      "metadata": {
        "id": "view-in-github",
        "colab_type": "text"
      },
      "source": [
        "<a href=\"https://colab.research.google.com/github/chetan-ade/FYP/blob/master/data_preprocessing.ipynb\" target=\"_parent\"><img src=\"https://colab.research.google.com/assets/colab-badge.svg\" alt=\"Open In Colab\"/></a>"
      ]
    },
    {
      "cell_type": "code",
      "metadata": {
        "id": "8hPWA_1I3mE_",
        "colab_type": "code",
        "colab": {}
      },
      "source": [
        "import pandas as pd"
      ],
      "execution_count": 2,
      "outputs": []
    },
    {
      "cell_type": "code",
      "metadata": {
        "id": "TmiK8ov933x5",
        "colab_type": "code",
        "outputId": "707739b0-9f31-4e85-e945-26a45404a7e7",
        "colab": {
          "base_uri": "https://localhost:8080/",
          "height": 309
        }
      },
      "source": [
        "location = '21.238611,73.350000'\n",
        "filename = location+\".csv\"\n",
        "df = pd.read_csv(filename)\n",
        "df.head()"
      ],
      "execution_count": 3,
      "outputs": [
        {
          "output_type": "execute_result",
          "data": {
            "text/plain": "       date_time  maxtempC  mintempC  totalSnow_cm  sunHour  uvIndex  \\\n4286  2020-03-26        37        26           0.0     11.6        1   \n4287  2020-03-27        36        26           0.0     10.2        1   \n4288  2020-03-28        39        25           0.0     11.6        1   \n4289  2020-03-29        40        25           0.0     11.6        1   \n4290  2020-03-30        41        28           0.0     11.6        1   \n\n      uvIndex.1  moon_illumination  moonrise   moonset  ... WindChillC  \\\n4286          1                 11  07:51 AM  08:30 PM  ...         31   \n4287          1                 18  08:24 AM  09:20 PM  ...         30   \n4288          1                 25  09:00 AM  10:11 PM  ...         32   \n4289          1                 32  09:39 AM  11:04 PM  ...         32   \n4290          1                 40  10:22 AM  11:59 PM  ...         34   \n\n     WindGustKmph  cloudcover  humidity  precipMM  pressure  tempC  \\\n4286           14          13        45       0.0      1009     37   \n4287           13          39        42       1.5      1012     36   \n4288           18           7        28       0.0      1011     39   \n4289           16           3        23       0.0      1010     40   \n4290           13           3        22       0.0      1009     41   \n\n      visibility  winddirDegree  windspeedKmph  \n4286          10            238             10  \n4287          10            206              9  \n4288          10            209             12  \n4289          10            225             11  \n4290          10            227              9  \n\n[5 rows x 25 columns]",
            "text/html": "<div>\n<style scoped>\n    .dataframe tbody tr th:only-of-type {\n        vertical-align: middle;\n    }\n\n    .dataframe tbody tr th {\n        vertical-align: top;\n    }\n\n    .dataframe thead th {\n        text-align: right;\n    }\n</style>\n<table border=\"1\" class=\"dataframe\">\n  <thead>\n    <tr style=\"text-align: right;\">\n      <th></th>\n      <th>date_time</th>\n      <th>maxtempC</th>\n      <th>mintempC</th>\n      <th>totalSnow_cm</th>\n      <th>sunHour</th>\n      <th>uvIndex</th>\n      <th>uvIndex.1</th>\n      <th>moon_illumination</th>\n      <th>moonrise</th>\n      <th>moonset</th>\n      <th>...</th>\n      <th>WindChillC</th>\n      <th>WindGustKmph</th>\n      <th>cloudcover</th>\n      <th>humidity</th>\n      <th>precipMM</th>\n      <th>pressure</th>\n      <th>tempC</th>\n      <th>visibility</th>\n      <th>winddirDegree</th>\n      <th>windspeedKmph</th>\n    </tr>\n  </thead>\n  <tbody>\n    <tr>\n      <th>4286</th>\n      <td>2020-03-26</td>\n      <td>37</td>\n      <td>26</td>\n      <td>0.0</td>\n      <td>11.6</td>\n      <td>1</td>\n      <td>1</td>\n      <td>11</td>\n      <td>07:51 AM</td>\n      <td>08:30 PM</td>\n      <td>...</td>\n      <td>31</td>\n      <td>14</td>\n      <td>13</td>\n      <td>45</td>\n      <td>0.0</td>\n      <td>1009</td>\n      <td>37</td>\n      <td>10</td>\n      <td>238</td>\n      <td>10</td>\n    </tr>\n    <tr>\n      <th>4287</th>\n      <td>2020-03-27</td>\n      <td>36</td>\n      <td>26</td>\n      <td>0.0</td>\n      <td>10.2</td>\n      <td>1</td>\n      <td>1</td>\n      <td>18</td>\n      <td>08:24 AM</td>\n      <td>09:20 PM</td>\n      <td>...</td>\n      <td>30</td>\n      <td>13</td>\n      <td>39</td>\n      <td>42</td>\n      <td>1.5</td>\n      <td>1012</td>\n      <td>36</td>\n      <td>10</td>\n      <td>206</td>\n      <td>9</td>\n    </tr>\n    <tr>\n      <th>4288</th>\n      <td>2020-03-28</td>\n      <td>39</td>\n      <td>25</td>\n      <td>0.0</td>\n      <td>11.6</td>\n      <td>1</td>\n      <td>1</td>\n      <td>25</td>\n      <td>09:00 AM</td>\n      <td>10:11 PM</td>\n      <td>...</td>\n      <td>32</td>\n      <td>18</td>\n      <td>7</td>\n      <td>28</td>\n      <td>0.0</td>\n      <td>1011</td>\n      <td>39</td>\n      <td>10</td>\n      <td>209</td>\n      <td>12</td>\n    </tr>\n    <tr>\n      <th>4289</th>\n      <td>2020-03-29</td>\n      <td>40</td>\n      <td>25</td>\n      <td>0.0</td>\n      <td>11.6</td>\n      <td>1</td>\n      <td>1</td>\n      <td>32</td>\n      <td>09:39 AM</td>\n      <td>11:04 PM</td>\n      <td>...</td>\n      <td>32</td>\n      <td>16</td>\n      <td>3</td>\n      <td>23</td>\n      <td>0.0</td>\n      <td>1010</td>\n      <td>40</td>\n      <td>10</td>\n      <td>225</td>\n      <td>11</td>\n    </tr>\n    <tr>\n      <th>4290</th>\n      <td>2020-03-30</td>\n      <td>41</td>\n      <td>28</td>\n      <td>0.0</td>\n      <td>11.6</td>\n      <td>1</td>\n      <td>1</td>\n      <td>40</td>\n      <td>10:22 AM</td>\n      <td>11:59 PM</td>\n      <td>...</td>\n      <td>34</td>\n      <td>13</td>\n      <td>3</td>\n      <td>22</td>\n      <td>0.0</td>\n      <td>1009</td>\n      <td>41</td>\n      <td>10</td>\n      <td>227</td>\n      <td>9</td>\n    </tr>\n  </tbody>\n</table>\n<p>5 rows × 25 columns</p>\n</div>"
          },
          "metadata": {},
          "execution_count": 3
        }
      ]
    },
    {
      "cell_type": "code",
      "metadata": {
        "id": "YY46Dy21jyCj",
        "colab_type": "code",
        "colab": {}
      },
      "source": [
        "final_df = pd.DataFrame(\n",
        "    columns=['date', 'direction', 'speed']\n",
        ")"
      ],
      "execution_count": 4,
      "outputs": []
    },
    {
      "cell_type": "code",
      "metadata": {
        "id": "On95S_6Bj-J4",
        "colab_type": "code",
        "colab": {}
      },
      "source": [
        "final_df['date'] = df['date_time']\n",
        "final_df['direction'] = df['winddirDegree']\n",
        "final_df['speed'] = df['windspeedKmph']"
      ],
      "execution_count": 5,
      "outputs": []
    },
    {
      "cell_type": "code",
      "metadata": {
        "id": "ar8fL7L1kWIu",
        "colab_type": "code",
        "colab": {}
      },
      "source": [
        "final_df.to_csv(filename)"
      ],
      "execution_count": 6,
      "outputs": []
    },
    {
      "cell_type": "code",
      "metadata": {
        "id": "8OyE_s_642bZ",
        "colab_type": "code",
        "outputId": "b9ec9cca-8917-4d60-85fc-2a7bb8e7ca84",
        "colab": {
          "base_uri": "https://localhost:8080/",
          "height": 765
        }
      },
      "source": [
        "for i in range(len(df['winddirDegree'])):\n",
        "    if df['winddirDegree'][i] >= 337.5 or df['winddirDegree'][i] < 22.5:\n",
        "        df['winddirDegree'][i] = 'N'\n",
        "    elif df['winddirDegree'][i] >= 22.5 and df['winddirDegree'][i] < 67.5:\n",
        "        df['winddirDegree'][i] = 'NE'\n",
        "    elif df['winddirDegree'][i] >= 67.5 and df['winddirDegree'][i] < 112.5:\n",
        "        df['winddirDegree'][i] = 'E'\n",
        "    elif df['winddirDegree'][i] >= 112.5 and df['winddirDegree'][i] < 157.5:\n",
        "        df['winddirDegree'][i] = 'SE'\n",
        "    elif df['winddirDegree'][i] >= 157.5 and df['winddirDegree'][i] < 202.5:\n",
        "        df['winddirDegree'][i] = 'S'\n",
        "    elif df['winddirDegree'][i] >= 202.5 and df['winddirDegree'][i] < 247.5:\n",
        "        df['winddirDegree'][i] = 'SW'\n",
        "    elif df['winddirDegree'][i] >= 247.5 and df['winddirDegree'][i] < 292.5:\n",
        "        df['winddirDegree'][i] = 'W'\n",
        "    elif df['winddirDegree'][i] >= 292.5 and df['winddirDegree'][i] < 337.5:\n",
        "        df['winddirDegree'][i] = 'NW'"
      ],
      "execution_count": 7,
      "outputs": []
    },
    {
      "cell_type": "code",
      "metadata": {
        "id": "0N93Jl9U5O6l",
        "colab_type": "code",
        "outputId": "13505e4c-7c36-4271-f3a6-0363b51c281f",
        "colab": {
          "base_uri": "https://localhost:8080/",
          "height": 309
        }
      },
      "source": [
        "df.head()"
      ],
      "execution_count": 8,
      "outputs": [
        {
          "output_type": "execute_result",
          "data": {
            "text/plain": "    date_time  maxtempC  mintempC  totalSnow_cm  sunHour  uvIndex  uvIndex.1  \\\n0  2008-07-01        27        26           0.0      8.5        1          1   \n1  2008-07-02        27        26           0.0      8.5        1          1   \n2  2008-07-03        28        25           0.0      8.5        1          1   \n3  2008-07-04        29        26           0.0     13.6        1          1   \n4  2008-07-05        29        26           0.0      9.5        1          1   \n\n   moon_illumination  moonrise   moonset  ... WindChillC WindGustKmph  \\\n0                  4  03:40 AM  05:47 PM  ...         27           27   \n1                  0  04:44 AM  06:53 PM  ...         26           33   \n2                  0  05:53 AM  07:53 PM  ...         27           30   \n3                  3  07:03 AM  08:45 PM  ...         27           27   \n4                 10  08:09 AM  09:30 PM  ...         27           28   \n\n   cloudcover  humidity  precipMM  pressure  tempC  visibility  winddirDegree  \\\n0          89        92       6.2      1003     27          10             SW   \n1          95        91       4.6      1004     27          10             SW   \n2          84        91      18.3      1004     28           8             SW   \n3          50        87       4.3      1004     29          10             SW   \n4          71        87       5.2      1003     29          10             SW   \n\n   windspeedKmph  \n0             17  \n1             21  \n2             18  \n3             17  \n4             18  \n\n[5 rows x 25 columns]",
            "text/html": "<div>\n<style scoped>\n    .dataframe tbody tr th:only-of-type {\n        vertical-align: middle;\n    }\n\n    .dataframe tbody tr th {\n        vertical-align: top;\n    }\n\n    .dataframe thead th {\n        text-align: right;\n    }\n</style>\n<table border=\"1\" class=\"dataframe\">\n  <thead>\n    <tr style=\"text-align: right;\">\n      <th></th>\n      <th>date_time</th>\n      <th>maxtempC</th>\n      <th>mintempC</th>\n      <th>totalSnow_cm</th>\n      <th>sunHour</th>\n      <th>uvIndex</th>\n      <th>uvIndex.1</th>\n      <th>moon_illumination</th>\n      <th>moonrise</th>\n      <th>moonset</th>\n      <th>...</th>\n      <th>WindChillC</th>\n      <th>WindGustKmph</th>\n      <th>cloudcover</th>\n      <th>humidity</th>\n      <th>precipMM</th>\n      <th>pressure</th>\n      <th>tempC</th>\n      <th>visibility</th>\n      <th>winddirDegree</th>\n      <th>windspeedKmph</th>\n    </tr>\n  </thead>\n  <tbody>\n    <tr>\n      <th>0</th>\n      <td>2008-07-01</td>\n      <td>27</td>\n      <td>26</td>\n      <td>0.0</td>\n      <td>8.5</td>\n      <td>1</td>\n      <td>1</td>\n      <td>4</td>\n      <td>03:40 AM</td>\n      <td>05:47 PM</td>\n      <td>...</td>\n      <td>27</td>\n      <td>27</td>\n      <td>89</td>\n      <td>92</td>\n      <td>6.2</td>\n      <td>1003</td>\n      <td>27</td>\n      <td>10</td>\n      <td>SW</td>\n      <td>17</td>\n    </tr>\n    <tr>\n      <th>1</th>\n      <td>2008-07-02</td>\n      <td>27</td>\n      <td>26</td>\n      <td>0.0</td>\n      <td>8.5</td>\n      <td>1</td>\n      <td>1</td>\n      <td>0</td>\n      <td>04:44 AM</td>\n      <td>06:53 PM</td>\n      <td>...</td>\n      <td>26</td>\n      <td>33</td>\n      <td>95</td>\n      <td>91</td>\n      <td>4.6</td>\n      <td>1004</td>\n      <td>27</td>\n      <td>10</td>\n      <td>SW</td>\n      <td>21</td>\n    </tr>\n    <tr>\n      <th>2</th>\n      <td>2008-07-03</td>\n      <td>28</td>\n      <td>25</td>\n      <td>0.0</td>\n      <td>8.5</td>\n      <td>1</td>\n      <td>1</td>\n      <td>0</td>\n      <td>05:53 AM</td>\n      <td>07:53 PM</td>\n      <td>...</td>\n      <td>27</td>\n      <td>30</td>\n      <td>84</td>\n      <td>91</td>\n      <td>18.3</td>\n      <td>1004</td>\n      <td>28</td>\n      <td>8</td>\n      <td>SW</td>\n      <td>18</td>\n    </tr>\n    <tr>\n      <th>3</th>\n      <td>2008-07-04</td>\n      <td>29</td>\n      <td>26</td>\n      <td>0.0</td>\n      <td>13.6</td>\n      <td>1</td>\n      <td>1</td>\n      <td>3</td>\n      <td>07:03 AM</td>\n      <td>08:45 PM</td>\n      <td>...</td>\n      <td>27</td>\n      <td>27</td>\n      <td>50</td>\n      <td>87</td>\n      <td>4.3</td>\n      <td>1004</td>\n      <td>29</td>\n      <td>10</td>\n      <td>SW</td>\n      <td>17</td>\n    </tr>\n    <tr>\n      <th>4</th>\n      <td>2008-07-05</td>\n      <td>29</td>\n      <td>26</td>\n      <td>0.0</td>\n      <td>9.5</td>\n      <td>1</td>\n      <td>1</td>\n      <td>10</td>\n      <td>08:09 AM</td>\n      <td>09:30 PM</td>\n      <td>...</td>\n      <td>27</td>\n      <td>28</td>\n      <td>71</td>\n      <td>87</td>\n      <td>5.2</td>\n      <td>1003</td>\n      <td>29</td>\n      <td>10</td>\n      <td>SW</td>\n      <td>18</td>\n    </tr>\n  </tbody>\n</table>\n<p>5 rows × 25 columns</p>\n</div>"
          },
          "metadata": {},
          "execution_count": 8
        }
      ]
    },
    {
      "cell_type": "code",
      "metadata": {
        "id": "qxrjMglGFE4f",
        "colab_type": "code",
        "colab": {}
      },
      "source": [
        "df['month'] = ''\n",
        "df['day'] = ''"
      ],
      "execution_count": 9,
      "outputs": []
    },
    {
      "cell_type": "code",
      "metadata": {
        "id": "GXVa2-UaFH1K",
        "colab_type": "code",
        "outputId": "3dd8c0d4-f2d2-4e7c-eb7b-98d6830455e9",
        "colab": {
          "base_uri": "https://localhost:8080/",
          "height": 479
        }
      },
      "source": [
        "for i in range(len(df['date_time'])):\n",
        "    x = df['date_time'][i].split('-')\n",
        "    df['day'][i] = x[2]\n",
        "    df['month'][i] = x[1]\n",
        "df.head()"
      ],
      "execution_count": 10,
      "outputs": [
        {
          "output_type": "execute_result",
          "data": {
            "text/plain": "    date_time  maxtempC  mintempC  totalSnow_cm  sunHour  uvIndex  uvIndex.1  \\\n0  2008-07-01        27        26           0.0      8.5        1          1   \n1  2008-07-02        27        26           0.0      8.5        1          1   \n2  2008-07-03        28        25           0.0      8.5        1          1   \n3  2008-07-04        29        26           0.0     13.6        1          1   \n4  2008-07-05        29        26           0.0      9.5        1          1   \n\n   moon_illumination  moonrise   moonset  ... cloudcover humidity  precipMM  \\\n0                  4  03:40 AM  05:47 PM  ...         89       92       6.2   \n1                  0  04:44 AM  06:53 PM  ...         95       91       4.6   \n2                  0  05:53 AM  07:53 PM  ...         84       91      18.3   \n3                  3  07:03 AM  08:45 PM  ...         50       87       4.3   \n4                 10  08:09 AM  09:30 PM  ...         71       87       5.2   \n\n   pressure  tempC  visibility  winddirDegree  windspeedKmph  month  day  \n0      1003     27          10             SW             17     07   01  \n1      1004     27          10             SW             21     07   02  \n2      1004     28           8             SW             18     07   03  \n3      1004     29          10             SW             17     07   04  \n4      1003     29          10             SW             18     07   05  \n\n[5 rows x 27 columns]",
            "text/html": "<div>\n<style scoped>\n    .dataframe tbody tr th:only-of-type {\n        vertical-align: middle;\n    }\n\n    .dataframe tbody tr th {\n        vertical-align: top;\n    }\n\n    .dataframe thead th {\n        text-align: right;\n    }\n</style>\n<table border=\"1\" class=\"dataframe\">\n  <thead>\n    <tr style=\"text-align: right;\">\n      <th></th>\n      <th>date_time</th>\n      <th>maxtempC</th>\n      <th>mintempC</th>\n      <th>totalSnow_cm</th>\n      <th>sunHour</th>\n      <th>uvIndex</th>\n      <th>uvIndex.1</th>\n      <th>moon_illumination</th>\n      <th>moonrise</th>\n      <th>moonset</th>\n      <th>...</th>\n      <th>cloudcover</th>\n      <th>humidity</th>\n      <th>precipMM</th>\n      <th>pressure</th>\n      <th>tempC</th>\n      <th>visibility</th>\n      <th>winddirDegree</th>\n      <th>windspeedKmph</th>\n      <th>month</th>\n      <th>day</th>\n    </tr>\n  </thead>\n  <tbody>\n    <tr>\n      <th>0</th>\n      <td>2008-07-01</td>\n      <td>27</td>\n      <td>26</td>\n      <td>0.0</td>\n      <td>8.5</td>\n      <td>1</td>\n      <td>1</td>\n      <td>4</td>\n      <td>03:40 AM</td>\n      <td>05:47 PM</td>\n      <td>...</td>\n      <td>89</td>\n      <td>92</td>\n      <td>6.2</td>\n      <td>1003</td>\n      <td>27</td>\n      <td>10</td>\n      <td>SW</td>\n      <td>17</td>\n      <td>07</td>\n      <td>01</td>\n    </tr>\n    <tr>\n      <th>1</th>\n      <td>2008-07-02</td>\n      <td>27</td>\n      <td>26</td>\n      <td>0.0</td>\n      <td>8.5</td>\n      <td>1</td>\n      <td>1</td>\n      <td>0</td>\n      <td>04:44 AM</td>\n      <td>06:53 PM</td>\n      <td>...</td>\n      <td>95</td>\n      <td>91</td>\n      <td>4.6</td>\n      <td>1004</td>\n      <td>27</td>\n      <td>10</td>\n      <td>SW</td>\n      <td>21</td>\n      <td>07</td>\n      <td>02</td>\n    </tr>\n    <tr>\n      <th>2</th>\n      <td>2008-07-03</td>\n      <td>28</td>\n      <td>25</td>\n      <td>0.0</td>\n      <td>8.5</td>\n      <td>1</td>\n      <td>1</td>\n      <td>0</td>\n      <td>05:53 AM</td>\n      <td>07:53 PM</td>\n      <td>...</td>\n      <td>84</td>\n      <td>91</td>\n      <td>18.3</td>\n      <td>1004</td>\n      <td>28</td>\n      <td>8</td>\n      <td>SW</td>\n      <td>18</td>\n      <td>07</td>\n      <td>03</td>\n    </tr>\n    <tr>\n      <th>3</th>\n      <td>2008-07-04</td>\n      <td>29</td>\n      <td>26</td>\n      <td>0.0</td>\n      <td>13.6</td>\n      <td>1</td>\n      <td>1</td>\n      <td>3</td>\n      <td>07:03 AM</td>\n      <td>08:45 PM</td>\n      <td>...</td>\n      <td>50</td>\n      <td>87</td>\n      <td>4.3</td>\n      <td>1004</td>\n      <td>29</td>\n      <td>10</td>\n      <td>SW</td>\n      <td>17</td>\n      <td>07</td>\n      <td>04</td>\n    </tr>\n    <tr>\n      <th>4</th>\n      <td>2008-07-05</td>\n      <td>29</td>\n      <td>26</td>\n      <td>0.0</td>\n      <td>9.5</td>\n      <td>1</td>\n      <td>1</td>\n      <td>10</td>\n      <td>08:09 AM</td>\n      <td>09:30 PM</td>\n      <td>...</td>\n      <td>71</td>\n      <td>87</td>\n      <td>5.2</td>\n      <td>1003</td>\n      <td>29</td>\n      <td>10</td>\n      <td>SW</td>\n      <td>18</td>\n      <td>07</td>\n      <td>05</td>\n    </tr>\n  </tbody>\n</table>\n<p>5 rows × 27 columns</p>\n</div>"
          },
          "metadata": {},
          "execution_count": 10
        }
      ]
    },
    {
      "cell_type": "code",
      "metadata": {
        "id": "el_Z9-uDJIMI",
        "colab_type": "code",
        "colab": {}
      },
      "source": [
        "preprocessed_data = pd.DataFrame(\n",
        "    columns=['date', 'day', 'month', 'WindDir', 'WindspeedKmph']\n",
        ")"
      ],
      "execution_count": 11,
      "outputs": []
    },
    {
      "cell_type": "code",
      "metadata": {
        "id": "800MiEqZMoaF",
        "colab_type": "code",
        "outputId": "0e69fb0b-d21c-465f-e5f0-0a2ea233e4f4",
        "colab": {
          "base_uri": "https://localhost:8080/",
          "height": 204
        }
      },
      "source": [
        "preprocessed_data['date'] = df['date_time']\n",
        "preprocessed_data['day'] = df['day']\n",
        "preprocessed_data['month'] = df['month']\n",
        "preprocessed_data['WindDir'] = df['winddirDegree']\n",
        "preprocessed_data['WindspeedKmph'] = df['windspeedKmph']\n",
        "preprocessed_data.head()"
      ],
      "execution_count": 12,
      "outputs": [
        {
          "output_type": "execute_result",
          "data": {
            "text/plain": "         date day month WindDir  WindspeedKmph\n0  2008-07-01  01    07      SW             17\n1  2008-07-02  02    07      SW             21\n2  2008-07-03  03    07      SW             18\n3  2008-07-04  04    07      SW             17\n4  2008-07-05  05    07      SW             18",
            "text/html": "<div>\n<style scoped>\n    .dataframe tbody tr th:only-of-type {\n        vertical-align: middle;\n    }\n\n    .dataframe tbody tr th {\n        vertical-align: top;\n    }\n\n    .dataframe thead th {\n        text-align: right;\n    }\n</style>\n<table border=\"1\" class=\"dataframe\">\n  <thead>\n    <tr style=\"text-align: right;\">\n      <th></th>\n      <th>date</th>\n      <th>day</th>\n      <th>month</th>\n      <th>WindDir</th>\n      <th>WindspeedKmph</th>\n    </tr>\n  </thead>\n  <tbody>\n    <tr>\n      <th>0</th>\n      <td>2008-07-01</td>\n      <td>01</td>\n      <td>07</td>\n      <td>SW</td>\n      <td>17</td>\n    </tr>\n    <tr>\n      <th>1</th>\n      <td>2008-07-02</td>\n      <td>02</td>\n      <td>07</td>\n      <td>SW</td>\n      <td>21</td>\n    </tr>\n    <tr>\n      <th>2</th>\n      <td>2008-07-03</td>\n      <td>03</td>\n      <td>07</td>\n      <td>SW</td>\n      <td>18</td>\n    </tr>\n    <tr>\n      <th>3</th>\n      <td>2008-07-04</td>\n      <td>04</td>\n      <td>07</td>\n      <td>SW</td>\n      <td>17</td>\n    </tr>\n    <tr>\n      <th>4</th>\n      <td>2008-07-05</td>\n      <td>05</td>\n      <td>07</td>\n      <td>SW</td>\n      <td>18</td>\n    </tr>\n  </tbody>\n</table>\n</div>"
          },
          "metadata": {},
          "execution_count": 12
        }
      ]
    },
    {
      "cell_type": "code",
      "metadata": {
        "id": "P1KoWGbzDT_i",
        "colab_type": "code",
        "colab": {}
      },
      "source": [
        "prepro_filename = location+\"_preprocessed.csv\"\n",
        "preprocessed_data.to_csv(prepro_filename)"
      ],
      "execution_count": 13,
      "outputs": []
    },
    {
      "cell_type": "code",
      "metadata": {
        "id": "D7S6JmRlfATd",
        "colab_type": "code",
        "colab": {}
      },
      "source": [
        ""
      ],
      "execution_count": 0,
      "outputs": []
    }
  ]
}