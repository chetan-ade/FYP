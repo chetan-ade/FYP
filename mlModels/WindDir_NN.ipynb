{
  "nbformat": 4,
  "nbformat_minor": 0,
  "metadata": {
    "colab": {
      "name": "WindDir_NN.ipynb",
      "provenance": [],
      "collapsed_sections": [],
      "authorship_tag": "ABX9TyO3SZRoBPQBpuMbX8UzZQEX",
      "include_colab_link": true
    },
    "kernelspec": {
      "name": "python3",
      "display_name": "Python 3"
    },
    "accelerator": "GPU"
  },
  "cells": [
    {
      "cell_type": "markdown",
      "metadata": {
        "id": "view-in-github",
        "colab_type": "text"
      },
      "source": [
        "<a href=\"https://colab.research.google.com/github/chetan-ade/FYP/blob/master/WindDir_NN.ipynb\" target=\"_parent\"><img src=\"https://colab.research.google.com/assets/colab-badge.svg\" alt=\"Open In Colab\"/></a>"
      ]
    },
    {
      "cell_type": "code",
      "metadata": {
        "id": "e5OqjR40OeTF",
        "colab_type": "code",
        "colab": {}
      },
      "source": [
        "from google.colab import drive\n",
        "\n",
        "import numpy as np\n",
        "import pandas as pd\n",
        "from tensorflow.python.keras.models import Sequential\n",
        "from tensorflow.python.keras.layers import Activation, Dense\n",
        "from sklearn.model_selection import train_test_split\n",
        "from sklearn.preprocessing import LabelEncoder\n",
        "from tensorflow.python.keras.utils import np_utils\n",
        "import datetime\n",
        "from datetime import date"
      ],
      "execution_count": 0,
      "outputs": []
    },
    {
      "cell_type": "code",
      "metadata": {
        "id": "NDgoAps0PPcf",
        "colab_type": "code",
        "outputId": "25b2a4c8-3405-4874-f671-b1dbf9d52135",
        "colab": {
          "base_uri": "https://localhost:8080/",
          "height": 122
        }
      },
      "source": [
        "drive.mount('/content/gdrive')"
      ],
      "execution_count": 2,
      "outputs": [
        {
          "output_type": "stream",
          "text": [
            "Go to this URL in a browser: https://accounts.google.com/o/oauth2/auth?client_id=947318989803-6bn6qk8qdgf4n4g3pfee6491hc0brc4i.apps.googleusercontent.com&redirect_uri=urn%3aietf%3awg%3aoauth%3a2.0%3aoob&response_type=code&scope=email%20https%3a%2f%2fwww.googleapis.com%2fauth%2fdocs.test%20https%3a%2f%2fwww.googleapis.com%2fauth%2fdrive%20https%3a%2f%2fwww.googleapis.com%2fauth%2fdrive.photos.readonly%20https%3a%2f%2fwww.googleapis.com%2fauth%2fpeopleapi.readonly\n",
            "\n",
            "Enter your authorization code:\n",
            "··········\n",
            "Mounted at /content/gdrive\n"
          ],
          "name": "stdout"
        }
      ]
    },
    {
      "cell_type": "code",
      "metadata": {
        "id": "1cfeBY22PB_g",
        "colab_type": "code",
        "outputId": "fc4519fe-59c6-4d7e-c8bc-f2b239751313",
        "colab": {
          "base_uri": "https://localhost:8080/",
          "height": 204
        }
      },
      "source": [
        "df = pd.read_csv('gdrive/My Drive/tarapur_preprocessed.csv')\n",
        "df.head()"
      ],
      "execution_count": 35,
      "outputs": [
        {
          "output_type": "execute_result",
          "data": {
            "text/html": [
              "<div>\n",
              "<style scoped>\n",
              "    .dataframe tbody tr th:only-of-type {\n",
              "        vertical-align: middle;\n",
              "    }\n",
              "\n",
              "    .dataframe tbody tr th {\n",
              "        vertical-align: top;\n",
              "    }\n",
              "\n",
              "    .dataframe thead th {\n",
              "        text-align: right;\n",
              "    }\n",
              "</style>\n",
              "<table border=\"1\" class=\"dataframe\">\n",
              "  <thead>\n",
              "    <tr style=\"text-align: right;\">\n",
              "      <th></th>\n",
              "      <th>Unnamed: 0</th>\n",
              "      <th>date</th>\n",
              "      <th>day</th>\n",
              "      <th>month</th>\n",
              "      <th>WindDir</th>\n",
              "      <th>WindspeedKmph</th>\n",
              "    </tr>\n",
              "  </thead>\n",
              "  <tbody>\n",
              "    <tr>\n",
              "      <th>0</th>\n",
              "      <td>0</td>\n",
              "      <td>2008-07-01</td>\n",
              "      <td>1</td>\n",
              "      <td>7</td>\n",
              "      <td>SW</td>\n",
              "      <td>25</td>\n",
              "    </tr>\n",
              "    <tr>\n",
              "      <th>1</th>\n",
              "      <td>1</td>\n",
              "      <td>2008-07-02</td>\n",
              "      <td>2</td>\n",
              "      <td>7</td>\n",
              "      <td>SW</td>\n",
              "      <td>26</td>\n",
              "    </tr>\n",
              "    <tr>\n",
              "      <th>2</th>\n",
              "      <td>2</td>\n",
              "      <td>2008-07-03</td>\n",
              "      <td>3</td>\n",
              "      <td>7</td>\n",
              "      <td>SW</td>\n",
              "      <td>22</td>\n",
              "    </tr>\n",
              "    <tr>\n",
              "      <th>3</th>\n",
              "      <td>3</td>\n",
              "      <td>2008-07-04</td>\n",
              "      <td>4</td>\n",
              "      <td>7</td>\n",
              "      <td>SW</td>\n",
              "      <td>22</td>\n",
              "    </tr>\n",
              "    <tr>\n",
              "      <th>4</th>\n",
              "      <td>4</td>\n",
              "      <td>2008-07-05</td>\n",
              "      <td>5</td>\n",
              "      <td>7</td>\n",
              "      <td>SW</td>\n",
              "      <td>22</td>\n",
              "    </tr>\n",
              "  </tbody>\n",
              "</table>\n",
              "</div>"
            ],
            "text/plain": [
              "   Unnamed: 0        date  day  month WindDir  WindspeedKmph\n",
              "0           0  2008-07-01    1      7      SW             25\n",
              "1           1  2008-07-02    2      7      SW             26\n",
              "2           2  2008-07-03    3      7      SW             22\n",
              "3           3  2008-07-04    4      7      SW             22\n",
              "4           4  2008-07-05    5      7      SW             22"
            ]
          },
          "metadata": {
            "tags": []
          },
          "execution_count": 35
        }
      ]
    },
    {
      "cell_type": "code",
      "metadata": {
        "id": "E6xI1Ua2PMQS",
        "colab_type": "code",
        "colab": {}
      },
      "source": [
        "data = pd.DataFrame(\n",
        "    columns=['day', 'month', 'WindDir']\n",
        ")"
      ],
      "execution_count": 0,
      "outputs": []
    },
    {
      "cell_type": "code",
      "metadata": {
        "id": "Hhwj95KoQUne",
        "colab_type": "code",
        "outputId": "1ada0d4e-b86e-4264-e29e-09342abd50ea",
        "colab": {
          "base_uri": "https://localhost:8080/",
          "height": 204
        }
      },
      "source": [
        "data['day'] = df['day']\n",
        "data['month'] = df['month']\n",
        "data['WindDir'] = df['WindDir']\n",
        "data.head()"
      ],
      "execution_count": 37,
      "outputs": [
        {
          "output_type": "execute_result",
          "data": {
            "text/html": [
              "<div>\n",
              "<style scoped>\n",
              "    .dataframe tbody tr th:only-of-type {\n",
              "        vertical-align: middle;\n",
              "    }\n",
              "\n",
              "    .dataframe tbody tr th {\n",
              "        vertical-align: top;\n",
              "    }\n",
              "\n",
              "    .dataframe thead th {\n",
              "        text-align: right;\n",
              "    }\n",
              "</style>\n",
              "<table border=\"1\" class=\"dataframe\">\n",
              "  <thead>\n",
              "    <tr style=\"text-align: right;\">\n",
              "      <th></th>\n",
              "      <th>day</th>\n",
              "      <th>month</th>\n",
              "      <th>WindDir</th>\n",
              "    </tr>\n",
              "  </thead>\n",
              "  <tbody>\n",
              "    <tr>\n",
              "      <th>0</th>\n",
              "      <td>1</td>\n",
              "      <td>7</td>\n",
              "      <td>SW</td>\n",
              "    </tr>\n",
              "    <tr>\n",
              "      <th>1</th>\n",
              "      <td>2</td>\n",
              "      <td>7</td>\n",
              "      <td>SW</td>\n",
              "    </tr>\n",
              "    <tr>\n",
              "      <th>2</th>\n",
              "      <td>3</td>\n",
              "      <td>7</td>\n",
              "      <td>SW</td>\n",
              "    </tr>\n",
              "    <tr>\n",
              "      <th>3</th>\n",
              "      <td>4</td>\n",
              "      <td>7</td>\n",
              "      <td>SW</td>\n",
              "    </tr>\n",
              "    <tr>\n",
              "      <th>4</th>\n",
              "      <td>5</td>\n",
              "      <td>7</td>\n",
              "      <td>SW</td>\n",
              "    </tr>\n",
              "  </tbody>\n",
              "</table>\n",
              "</div>"
            ],
            "text/plain": [
              "   day  month WindDir\n",
              "0    1      7      SW\n",
              "1    2      7      SW\n",
              "2    3      7      SW\n",
              "3    4      7      SW\n",
              "4    5      7      SW"
            ]
          },
          "metadata": {
            "tags": []
          },
          "execution_count": 37
        }
      ]
    },
    {
      "cell_type": "code",
      "metadata": {
        "id": "fSycMoYVDCFP",
        "colab_type": "code",
        "outputId": "cf5e6c91-a59f-4ed9-dd3d-5513d8238d47",
        "colab": {
          "base_uri": "https://localhost:8080/",
          "height": 297
        }
      },
      "source": [
        "data.describe()"
      ],
      "execution_count": 38,
      "outputs": [
        {
          "output_type": "execute_result",
          "data": {
            "text/html": [
              "<div>\n",
              "<style scoped>\n",
              "    .dataframe tbody tr th:only-of-type {\n",
              "        vertical-align: middle;\n",
              "    }\n",
              "\n",
              "    .dataframe tbody tr th {\n",
              "        vertical-align: top;\n",
              "    }\n",
              "\n",
              "    .dataframe thead th {\n",
              "        text-align: right;\n",
              "    }\n",
              "</style>\n",
              "<table border=\"1\" class=\"dataframe\">\n",
              "  <thead>\n",
              "    <tr style=\"text-align: right;\">\n",
              "      <th></th>\n",
              "      <th>day</th>\n",
              "      <th>month</th>\n",
              "    </tr>\n",
              "  </thead>\n",
              "  <tbody>\n",
              "    <tr>\n",
              "      <th>count</th>\n",
              "      <td>4290.000000</td>\n",
              "      <td>4290.000000</td>\n",
              "    </tr>\n",
              "    <tr>\n",
              "      <th>mean</th>\n",
              "      <td>15.724009</td>\n",
              "      <td>6.556876</td>\n",
              "    </tr>\n",
              "    <tr>\n",
              "      <th>std</th>\n",
              "      <td>8.798265</td>\n",
              "      <td>3.476216</td>\n",
              "    </tr>\n",
              "    <tr>\n",
              "      <th>min</th>\n",
              "      <td>1.000000</td>\n",
              "      <td>1.000000</td>\n",
              "    </tr>\n",
              "    <tr>\n",
              "      <th>25%</th>\n",
              "      <td>8.000000</td>\n",
              "      <td>3.000000</td>\n",
              "    </tr>\n",
              "    <tr>\n",
              "      <th>50%</th>\n",
              "      <td>16.000000</td>\n",
              "      <td>7.000000</td>\n",
              "    </tr>\n",
              "    <tr>\n",
              "      <th>75%</th>\n",
              "      <td>23.000000</td>\n",
              "      <td>10.000000</td>\n",
              "    </tr>\n",
              "    <tr>\n",
              "      <th>max</th>\n",
              "      <td>31.000000</td>\n",
              "      <td>12.000000</td>\n",
              "    </tr>\n",
              "  </tbody>\n",
              "</table>\n",
              "</div>"
            ],
            "text/plain": [
              "               day        month\n",
              "count  4290.000000  4290.000000\n",
              "mean     15.724009     6.556876\n",
              "std       8.798265     3.476216\n",
              "min       1.000000     1.000000\n",
              "25%       8.000000     3.000000\n",
              "50%      16.000000     7.000000\n",
              "75%      23.000000    10.000000\n",
              "max      31.000000    12.000000"
            ]
          },
          "metadata": {
            "tags": []
          },
          "execution_count": 38
        }
      ]
    },
    {
      "cell_type": "code",
      "metadata": {
        "id": "QJf4E5HCUzI5",
        "colab_type": "code",
        "colab": {}
      },
      "source": [
        "le_pred = LabelEncoder()"
      ],
      "execution_count": 0,
      "outputs": []
    },
    {
      "cell_type": "code",
      "metadata": {
        "id": "mfjBU920U1YU",
        "colab_type": "code",
        "colab": {}
      },
      "source": [
        "y = le_pred.fit_transform(data.WindDir)"
      ],
      "execution_count": 0,
      "outputs": []
    },
    {
      "cell_type": "code",
      "metadata": {
        "id": "_YoWV43wVIaW",
        "colab_type": "code",
        "outputId": "393ece40-a608-4312-8b9f-59b4cf519835",
        "colab": {
          "base_uri": "https://localhost:8080/",
          "height": 136
        }
      },
      "source": [
        "y = np_utils.to_categorical(y)\n",
        "y"
      ],
      "execution_count": 41,
      "outputs": [
        {
          "output_type": "execute_result",
          "data": {
            "text/plain": [
              "array([[0., 0., 0., ..., 0., 1., 0.],\n",
              "       [0., 0., 0., ..., 0., 1., 0.],\n",
              "       [0., 0., 0., ..., 0., 1., 0.],\n",
              "       ...,\n",
              "       [0., 1., 0., ..., 0., 0., 0.],\n",
              "       [0., 0., 0., ..., 0., 0., 0.],\n",
              "       [0., 1., 0., ..., 0., 0., 0.]], dtype=float32)"
            ]
          },
          "metadata": {
            "tags": []
          },
          "execution_count": 41
        }
      ]
    },
    {
      "cell_type": "code",
      "metadata": {
        "id": "8ks91azoHcWq",
        "colab_type": "code",
        "outputId": "d3919b2c-9d7e-48e6-c67e-c6ae6c456609",
        "colab": {
          "base_uri": "https://localhost:8080/",
          "height": 136
        }
      },
      "source": [
        "y = y.astype('int32')\n",
        "y"
      ],
      "execution_count": 42,
      "outputs": [
        {
          "output_type": "execute_result",
          "data": {
            "text/plain": [
              "array([[0, 0, 0, ..., 0, 1, 0],\n",
              "       [0, 0, 0, ..., 0, 1, 0],\n",
              "       [0, 0, 0, ..., 0, 1, 0],\n",
              "       ...,\n",
              "       [0, 1, 0, ..., 0, 0, 0],\n",
              "       [0, 0, 0, ..., 0, 0, 0],\n",
              "       [0, 1, 0, ..., 0, 0, 0]], dtype=int32)"
            ]
          },
          "metadata": {
            "tags": []
          },
          "execution_count": 42
        }
      ]
    },
    {
      "cell_type": "code",
      "metadata": {
        "id": "Mb9I5hY2YFyZ",
        "colab_type": "code",
        "outputId": "875467a9-34db-4104-9802-4946e501ef8c",
        "colab": {
          "base_uri": "https://localhost:8080/",
          "height": 34
        }
      },
      "source": [
        "y.shape"
      ],
      "execution_count": 43,
      "outputs": [
        {
          "output_type": "execute_result",
          "data": {
            "text/plain": [
              "(4290, 8)"
            ]
          },
          "metadata": {
            "tags": []
          },
          "execution_count": 43
        }
      ]
    },
    {
      "cell_type": "code",
      "metadata": {
        "id": "S1rp7027RMZy",
        "colab_type": "code",
        "colab": {}
      },
      "source": [
        "# xtrain, xtest, ytrain, ytest = train_test_split(data.iloc[:, :-1], y, test_size=0.25)"
      ],
      "execution_count": 0,
      "outputs": []
    },
    {
      "cell_type": "code",
      "metadata": {
        "id": "hYEs6DQ5R9YO",
        "colab_type": "code",
        "colab": {}
      },
      "source": [
        "model = Sequential()"
      ],
      "execution_count": 0,
      "outputs": []
    },
    {
      "cell_type": "code",
      "metadata": {
        "id": "ozyqbgQsSAfs",
        "colab_type": "code",
        "outputId": "839b4c64-ec9b-4ae7-ceb9-b49341a53dd9",
        "colab": {
          "base_uri": "https://localhost:8080/",
          "height": 663
        }
      },
      "source": [
        "model.add(Dense(units=16, input_dim=2, activation='relu'))\n",
        "model.add(Dense(units=32, activation='relu'))\n",
        "model.add(Dense(units=64, activation='relu'))\n",
        "model.add(Dense(units=64, activation='relu'))\n",
        "model.add(Dense(units=128, activation='relu'))\n",
        "model.add(Dense(units=128, activation='relu'))\n",
        "model.add(Dense(units=128, activation='relu'))\n",
        "model.add(Dense(units=64, activation='relu'))\n",
        "model.add(Dense(units=64, activation='relu'))\n",
        "model.add(Dense(units=32, activation='relu'))\n",
        "model.add(Dense(units=32, activation='relu'))\n",
        "model.add(Dense(units=32, activation='relu'))\n",
        "model.add(Dense(units=32, activation='relu'))\n",
        "model.add(Dense(units=32, activation='relu'))\n",
        "model.add(Dense(units=8, activation='softmax'))\n",
        "model.summary()"
      ],
      "execution_count": 45,
      "outputs": [
        {
          "output_type": "stream",
          "text": [
            "Model: \"sequential_1\"\n",
            "_________________________________________________________________\n",
            "Layer (type)                 Output Shape              Param #   \n",
            "=================================================================\n",
            "dense_15 (Dense)             (None, 16)                48        \n",
            "_________________________________________________________________\n",
            "dense_16 (Dense)             (None, 32)                544       \n",
            "_________________________________________________________________\n",
            "dense_17 (Dense)             (None, 64)                2112      \n",
            "_________________________________________________________________\n",
            "dense_18 (Dense)             (None, 64)                4160      \n",
            "_________________________________________________________________\n",
            "dense_19 (Dense)             (None, 128)               8320      \n",
            "_________________________________________________________________\n",
            "dense_20 (Dense)             (None, 128)               16512     \n",
            "_________________________________________________________________\n",
            "dense_21 (Dense)             (None, 128)               16512     \n",
            "_________________________________________________________________\n",
            "dense_22 (Dense)             (None, 64)                8256      \n",
            "_________________________________________________________________\n",
            "dense_23 (Dense)             (None, 64)                4160      \n",
            "_________________________________________________________________\n",
            "dense_24 (Dense)             (None, 32)                2080      \n",
            "_________________________________________________________________\n",
            "dense_25 (Dense)             (None, 32)                1056      \n",
            "_________________________________________________________________\n",
            "dense_26 (Dense)             (None, 32)                1056      \n",
            "_________________________________________________________________\n",
            "dense_27 (Dense)             (None, 32)                1056      \n",
            "_________________________________________________________________\n",
            "dense_28 (Dense)             (None, 32)                1056      \n",
            "_________________________________________________________________\n",
            "dense_29 (Dense)             (None, 8)                 264       \n",
            "=================================================================\n",
            "Total params: 67,192\n",
            "Trainable params: 67,192\n",
            "Non-trainable params: 0\n",
            "_________________________________________________________________\n"
          ],
          "name": "stdout"
        }
      ]
    },
    {
      "cell_type": "code",
      "metadata": {
        "id": "-wFrcblnTAjC",
        "colab_type": "code",
        "colab": {}
      },
      "source": [
        "model.compile(loss='categorical_crossentropy', optimizer='adam', metrics=['accuracy'])"
      ],
      "execution_count": 0,
      "outputs": []
    },
    {
      "cell_type": "code",
      "metadata": {
        "id": "Vmp6Ce8kTFMy",
        "colab_type": "code",
        "outputId": "24f59b0d-da61-43c1-f36a-8dac3e432b07",
        "colab": {
          "base_uri": "https://localhost:8080/",
          "height": 1000
        }
      },
      "source": [
        "model.fit(data.iloc[:, :-1], y, epochs=200, batch_size=512)"
      ],
      "execution_count": 47,
      "outputs": [
        {
          "output_type": "stream",
          "text": [
            "Epoch 1/200\n",
            "9/9 [==============================] - 0s 3ms/step - loss: 2.0653 - accuracy: 0.2455\n",
            "Epoch 2/200\n",
            "9/9 [==============================] - 0s 3ms/step - loss: 1.9384 - accuracy: 0.3650\n",
            "Epoch 3/200\n",
            "9/9 [==============================] - 0s 3ms/step - loss: 1.7770 - accuracy: 0.3650\n",
            "Epoch 4/200\n",
            "9/9 [==============================] - 0s 3ms/step - loss: 1.7196 - accuracy: 0.3650\n",
            "Epoch 5/200\n",
            "9/9 [==============================] - 0s 3ms/step - loss: 1.7055 - accuracy: 0.3650\n",
            "Epoch 6/200\n",
            "9/9 [==============================] - 0s 3ms/step - loss: 1.6973 - accuracy: 0.3650\n",
            "Epoch 7/200\n",
            "9/9 [==============================] - 0s 3ms/step - loss: 1.6910 - accuracy: 0.3650\n",
            "Epoch 8/200\n",
            "9/9 [==============================] - 0s 3ms/step - loss: 1.6817 - accuracy: 0.3650\n",
            "Epoch 9/200\n",
            "9/9 [==============================] - 0s 3ms/step - loss: 1.6763 - accuracy: 0.3650\n",
            "Epoch 10/200\n",
            "9/9 [==============================] - 0s 3ms/step - loss: 1.6719 - accuracy: 0.3650\n",
            "Epoch 11/200\n",
            "9/9 [==============================] - 0s 3ms/step - loss: 1.6609 - accuracy: 0.3650\n",
            "Epoch 12/200\n",
            "9/9 [==============================] - 0s 3ms/step - loss: 1.6432 - accuracy: 0.3650\n",
            "Epoch 13/200\n",
            "9/9 [==============================] - 0s 3ms/step - loss: 1.6246 - accuracy: 0.3650\n",
            "Epoch 14/200\n",
            "9/9 [==============================] - 0s 3ms/step - loss: 1.6007 - accuracy: 0.3646\n",
            "Epoch 15/200\n",
            "9/9 [==============================] - 0s 3ms/step - loss: 1.5694 - accuracy: 0.3925\n",
            "Epoch 16/200\n",
            "9/9 [==============================] - 0s 3ms/step - loss: 1.5041 - accuracy: 0.4023\n",
            "Epoch 17/200\n",
            "9/9 [==============================] - 0s 4ms/step - loss: 1.4827 - accuracy: 0.4051\n",
            "Epoch 18/200\n",
            "9/9 [==============================] - 0s 3ms/step - loss: 1.4596 - accuracy: 0.4177\n",
            "Epoch 19/200\n",
            "9/9 [==============================] - 0s 4ms/step - loss: 1.4258 - accuracy: 0.4226\n",
            "Epoch 20/200\n",
            "9/9 [==============================] - 0s 3ms/step - loss: 1.4202 - accuracy: 0.4205\n",
            "Epoch 21/200\n",
            "9/9 [==============================] - 0s 3ms/step - loss: 1.3809 - accuracy: 0.4326\n",
            "Epoch 22/200\n",
            "9/9 [==============================] - 0s 3ms/step - loss: 1.3655 - accuracy: 0.4401\n",
            "Epoch 23/200\n",
            "9/9 [==============================] - 0s 3ms/step - loss: 1.3571 - accuracy: 0.4354\n",
            "Epoch 24/200\n",
            "9/9 [==============================] - 0s 3ms/step - loss: 1.3657 - accuracy: 0.4403\n",
            "Epoch 25/200\n",
            "9/9 [==============================] - 0s 3ms/step - loss: 1.3636 - accuracy: 0.4359\n",
            "Epoch 26/200\n",
            "9/9 [==============================] - 0s 3ms/step - loss: 1.3472 - accuracy: 0.4375\n",
            "Epoch 27/200\n",
            "9/9 [==============================] - 0s 3ms/step - loss: 1.3512 - accuracy: 0.4352\n",
            "Epoch 28/200\n",
            "9/9 [==============================] - 0s 4ms/step - loss: 1.3374 - accuracy: 0.4410\n",
            "Epoch 29/200\n",
            "9/9 [==============================] - 0s 4ms/step - loss: 1.3444 - accuracy: 0.4371\n",
            "Epoch 30/200\n",
            "9/9 [==============================] - 0s 3ms/step - loss: 1.3394 - accuracy: 0.4354\n",
            "Epoch 31/200\n",
            "9/9 [==============================] - 0s 4ms/step - loss: 1.3383 - accuracy: 0.4347\n",
            "Epoch 32/200\n",
            "9/9 [==============================] - 0s 3ms/step - loss: 1.3835 - accuracy: 0.4294\n",
            "Epoch 33/200\n",
            "9/9 [==============================] - 0s 3ms/step - loss: 1.3857 - accuracy: 0.4247\n",
            "Epoch 34/200\n",
            "9/9 [==============================] - 0s 3ms/step - loss: 1.3465 - accuracy: 0.4361\n",
            "Epoch 35/200\n",
            "9/9 [==============================] - 0s 3ms/step - loss: 1.3403 - accuracy: 0.4371\n",
            "Epoch 36/200\n",
            "9/9 [==============================] - 0s 3ms/step - loss: 1.3308 - accuracy: 0.4399\n",
            "Epoch 37/200\n",
            "9/9 [==============================] - 0s 3ms/step - loss: 1.3277 - accuracy: 0.4438\n",
            "Epoch 38/200\n",
            "9/9 [==============================] - 0s 3ms/step - loss: 1.3245 - accuracy: 0.4410\n",
            "Epoch 39/200\n",
            "9/9 [==============================] - 0s 3ms/step - loss: 1.3140 - accuracy: 0.4380\n",
            "Epoch 40/200\n",
            "9/9 [==============================] - 0s 4ms/step - loss: 1.3203 - accuracy: 0.4506\n",
            "Epoch 41/200\n",
            "9/9 [==============================] - 0s 3ms/step - loss: 1.3169 - accuracy: 0.4429\n",
            "Epoch 42/200\n",
            "9/9 [==============================] - 0s 3ms/step - loss: 1.3246 - accuracy: 0.4413\n",
            "Epoch 43/200\n",
            "9/9 [==============================] - 0s 3ms/step - loss: 1.3161 - accuracy: 0.4387\n",
            "Epoch 44/200\n",
            "9/9 [==============================] - 0s 3ms/step - loss: 1.3191 - accuracy: 0.4459\n",
            "Epoch 45/200\n",
            "9/9 [==============================] - 0s 3ms/step - loss: 1.3169 - accuracy: 0.4452\n",
            "Epoch 46/200\n",
            "9/9 [==============================] - 0s 3ms/step - loss: 1.3164 - accuracy: 0.4522\n",
            "Epoch 47/200\n",
            "9/9 [==============================] - 0s 3ms/step - loss: 1.3297 - accuracy: 0.4420\n",
            "Epoch 48/200\n",
            "9/9 [==============================] - 0s 3ms/step - loss: 1.3280 - accuracy: 0.4443\n",
            "Epoch 49/200\n",
            "9/9 [==============================] - 0s 3ms/step - loss: 1.3163 - accuracy: 0.4473\n",
            "Epoch 50/200\n",
            "9/9 [==============================] - 0s 3ms/step - loss: 1.3134 - accuracy: 0.4417\n",
            "Epoch 51/200\n",
            "9/9 [==============================] - 0s 3ms/step - loss: 1.3050 - accuracy: 0.4478\n",
            "Epoch 52/200\n",
            "9/9 [==============================] - 0s 4ms/step - loss: 1.3167 - accuracy: 0.4513\n",
            "Epoch 53/200\n",
            "9/9 [==============================] - 0s 3ms/step - loss: 1.3171 - accuracy: 0.4410\n",
            "Epoch 54/200\n",
            "9/9 [==============================] - 0s 4ms/step - loss: 1.3089 - accuracy: 0.4443\n",
            "Epoch 55/200\n",
            "9/9 [==============================] - 0s 3ms/step - loss: 1.3032 - accuracy: 0.4473\n",
            "Epoch 56/200\n",
            "9/9 [==============================] - 0s 4ms/step - loss: 1.2964 - accuracy: 0.4438\n",
            "Epoch 57/200\n",
            "9/9 [==============================] - 0s 4ms/step - loss: 1.2986 - accuracy: 0.4438\n",
            "Epoch 58/200\n",
            "9/9 [==============================] - 0s 3ms/step - loss: 1.3015 - accuracy: 0.4455\n",
            "Epoch 59/200\n",
            "9/9 [==============================] - 0s 4ms/step - loss: 1.3065 - accuracy: 0.4529\n",
            "Epoch 60/200\n",
            "9/9 [==============================] - 0s 3ms/step - loss: 1.2953 - accuracy: 0.4503\n",
            "Epoch 61/200\n",
            "9/9 [==============================] - 0s 4ms/step - loss: 1.3002 - accuracy: 0.4471\n",
            "Epoch 62/200\n",
            "9/9 [==============================] - 0s 3ms/step - loss: 1.3282 - accuracy: 0.4333\n",
            "Epoch 63/200\n",
            "9/9 [==============================] - 0s 3ms/step - loss: 1.3255 - accuracy: 0.4345\n",
            "Epoch 64/200\n",
            "9/9 [==============================] - 0s 3ms/step - loss: 1.3204 - accuracy: 0.4352\n",
            "Epoch 65/200\n",
            "9/9 [==============================] - 0s 3ms/step - loss: 1.3041 - accuracy: 0.4448\n",
            "Epoch 66/200\n",
            "9/9 [==============================] - 0s 4ms/step - loss: 1.2972 - accuracy: 0.4513\n",
            "Epoch 67/200\n",
            "9/9 [==============================] - 0s 3ms/step - loss: 1.2933 - accuracy: 0.4462\n",
            "Epoch 68/200\n",
            "9/9 [==============================] - 0s 3ms/step - loss: 1.2963 - accuracy: 0.4499\n",
            "Epoch 69/200\n",
            "9/9 [==============================] - 0s 4ms/step - loss: 1.2979 - accuracy: 0.4483\n",
            "Epoch 70/200\n",
            "9/9 [==============================] - 0s 3ms/step - loss: 1.2958 - accuracy: 0.4445\n",
            "Epoch 71/200\n",
            "9/9 [==============================] - 0s 4ms/step - loss: 1.3087 - accuracy: 0.4490\n",
            "Epoch 72/200\n",
            "9/9 [==============================] - 0s 4ms/step - loss: 1.2966 - accuracy: 0.4480\n",
            "Epoch 73/200\n",
            "9/9 [==============================] - 0s 3ms/step - loss: 1.2960 - accuracy: 0.4494\n",
            "Epoch 74/200\n",
            "9/9 [==============================] - 0s 3ms/step - loss: 1.2790 - accuracy: 0.4473\n",
            "Epoch 75/200\n",
            "9/9 [==============================] - 0s 3ms/step - loss: 1.2825 - accuracy: 0.4499\n",
            "Epoch 76/200\n",
            "9/9 [==============================] - 0s 3ms/step - loss: 1.2919 - accuracy: 0.4487\n",
            "Epoch 77/200\n",
            "9/9 [==============================] - 0s 3ms/step - loss: 1.2852 - accuracy: 0.4476\n",
            "Epoch 78/200\n",
            "9/9 [==============================] - 0s 3ms/step - loss: 1.2964 - accuracy: 0.4443\n",
            "Epoch 79/200\n",
            "9/9 [==============================] - 0s 3ms/step - loss: 1.3015 - accuracy: 0.4466\n",
            "Epoch 80/200\n",
            "9/9 [==============================] - 0s 3ms/step - loss: 1.3167 - accuracy: 0.4350\n",
            "Epoch 81/200\n",
            "9/9 [==============================] - 0s 3ms/step - loss: 1.3131 - accuracy: 0.4368\n",
            "Epoch 82/200\n",
            "9/9 [==============================] - 0s 4ms/step - loss: 1.2934 - accuracy: 0.4487\n",
            "Epoch 83/200\n",
            "9/9 [==============================] - 0s 3ms/step - loss: 1.2811 - accuracy: 0.4476\n",
            "Epoch 84/200\n",
            "9/9 [==============================] - 0s 3ms/step - loss: 1.2901 - accuracy: 0.4473\n",
            "Epoch 85/200\n",
            "9/9 [==============================] - 0s 3ms/step - loss: 1.2827 - accuracy: 0.4436\n",
            "Epoch 86/200\n",
            "9/9 [==============================] - 0s 3ms/step - loss: 1.3114 - accuracy: 0.4485\n",
            "Epoch 87/200\n",
            "9/9 [==============================] - 0s 4ms/step - loss: 1.2971 - accuracy: 0.4510\n",
            "Epoch 88/200\n",
            "9/9 [==============================] - 0s 4ms/step - loss: 1.2846 - accuracy: 0.4494\n",
            "Epoch 89/200\n",
            "9/9 [==============================] - 0s 4ms/step - loss: 1.2872 - accuracy: 0.4497\n",
            "Epoch 90/200\n",
            "9/9 [==============================] - 0s 3ms/step - loss: 1.2953 - accuracy: 0.4445\n",
            "Epoch 91/200\n",
            "9/9 [==============================] - 0s 4ms/step - loss: 1.2879 - accuracy: 0.4459\n",
            "Epoch 92/200\n",
            "9/9 [==============================] - 0s 4ms/step - loss: 1.2782 - accuracy: 0.4476\n",
            "Epoch 93/200\n",
            "9/9 [==============================] - 0s 4ms/step - loss: 1.2724 - accuracy: 0.4543\n",
            "Epoch 94/200\n",
            "9/9 [==============================] - 0s 3ms/step - loss: 1.2795 - accuracy: 0.4494\n",
            "Epoch 95/200\n",
            "9/9 [==============================] - 0s 3ms/step - loss: 1.2766 - accuracy: 0.4510\n",
            "Epoch 96/200\n",
            "9/9 [==============================] - 0s 3ms/step - loss: 1.2837 - accuracy: 0.4513\n",
            "Epoch 97/200\n",
            "9/9 [==============================] - 0s 3ms/step - loss: 1.2816 - accuracy: 0.4471\n",
            "Epoch 98/200\n",
            "9/9 [==============================] - 0s 3ms/step - loss: 1.2903 - accuracy: 0.4510\n",
            "Epoch 99/200\n",
            "9/9 [==============================] - 0s 3ms/step - loss: 1.2835 - accuracy: 0.4548\n",
            "Epoch 100/200\n",
            "9/9 [==============================] - 0s 3ms/step - loss: 1.2746 - accuracy: 0.4513\n",
            "Epoch 101/200\n",
            "9/9 [==============================] - 0s 4ms/step - loss: 1.2730 - accuracy: 0.4480\n",
            "Epoch 102/200\n",
            "9/9 [==============================] - 0s 4ms/step - loss: 1.2892 - accuracy: 0.4487\n",
            "Epoch 103/200\n",
            "9/9 [==============================] - 0s 4ms/step - loss: 1.3006 - accuracy: 0.4413\n",
            "Epoch 104/200\n",
            "9/9 [==============================] - 0s 4ms/step - loss: 1.2864 - accuracy: 0.4510\n",
            "Epoch 105/200\n",
            "9/9 [==============================] - 0s 3ms/step - loss: 1.2767 - accuracy: 0.4527\n",
            "Epoch 106/200\n",
            "9/9 [==============================] - 0s 3ms/step - loss: 1.2762 - accuracy: 0.4520\n",
            "Epoch 107/200\n",
            "9/9 [==============================] - 0s 3ms/step - loss: 1.2810 - accuracy: 0.4524\n",
            "Epoch 108/200\n",
            "9/9 [==============================] - 0s 4ms/step - loss: 1.2780 - accuracy: 0.4513\n",
            "Epoch 109/200\n",
            "9/9 [==============================] - 0s 3ms/step - loss: 1.2702 - accuracy: 0.4524\n",
            "Epoch 110/200\n",
            "9/9 [==============================] - 0s 3ms/step - loss: 1.2656 - accuracy: 0.4529\n",
            "Epoch 111/200\n",
            "9/9 [==============================] - 0s 3ms/step - loss: 1.2791 - accuracy: 0.4476\n",
            "Epoch 112/200\n",
            "9/9 [==============================] - 0s 3ms/step - loss: 1.2777 - accuracy: 0.4427\n",
            "Epoch 113/200\n",
            "9/9 [==============================] - 0s 3ms/step - loss: 1.2842 - accuracy: 0.4483\n",
            "Epoch 114/200\n",
            "9/9 [==============================] - 0s 3ms/step - loss: 1.2874 - accuracy: 0.4455\n",
            "Epoch 115/200\n",
            "9/9 [==============================] - 0s 4ms/step - loss: 1.2783 - accuracy: 0.4469\n",
            "Epoch 116/200\n",
            "9/9 [==============================] - 0s 4ms/step - loss: 1.2741 - accuracy: 0.4524\n",
            "Epoch 117/200\n",
            "9/9 [==============================] - 0s 3ms/step - loss: 1.2756 - accuracy: 0.4541\n",
            "Epoch 118/200\n",
            "9/9 [==============================] - 0s 4ms/step - loss: 1.2678 - accuracy: 0.4541\n",
            "Epoch 119/200\n",
            "9/9 [==============================] - 0s 3ms/step - loss: 1.2808 - accuracy: 0.4513\n",
            "Epoch 120/200\n",
            "9/9 [==============================] - 0s 3ms/step - loss: 1.2675 - accuracy: 0.4557\n",
            "Epoch 121/200\n",
            "9/9 [==============================] - 0s 3ms/step - loss: 1.2676 - accuracy: 0.4517\n",
            "Epoch 122/200\n",
            "9/9 [==============================] - 0s 3ms/step - loss: 1.2684 - accuracy: 0.4557\n",
            "Epoch 123/200\n",
            "9/9 [==============================] - 0s 3ms/step - loss: 1.2690 - accuracy: 0.4480\n",
            "Epoch 124/200\n",
            "9/9 [==============================] - 0s 3ms/step - loss: 1.2633 - accuracy: 0.4538\n",
            "Epoch 125/200\n",
            "9/9 [==============================] - 0s 3ms/step - loss: 1.2685 - accuracy: 0.4573\n",
            "Epoch 126/200\n",
            "9/9 [==============================] - 0s 3ms/step - loss: 1.2790 - accuracy: 0.4520\n",
            "Epoch 127/200\n",
            "9/9 [==============================] - 0s 3ms/step - loss: 1.2801 - accuracy: 0.4529\n",
            "Epoch 128/200\n",
            "9/9 [==============================] - 0s 3ms/step - loss: 1.2828 - accuracy: 0.4497\n",
            "Epoch 129/200\n",
            "9/9 [==============================] - 0s 3ms/step - loss: 1.2966 - accuracy: 0.4408\n",
            "Epoch 130/200\n",
            "9/9 [==============================] - 0s 3ms/step - loss: 1.2684 - accuracy: 0.4536\n",
            "Epoch 131/200\n",
            "9/9 [==============================] - 0s 3ms/step - loss: 1.2725 - accuracy: 0.4506\n",
            "Epoch 132/200\n",
            "9/9 [==============================] - 0s 3ms/step - loss: 1.2687 - accuracy: 0.4536\n",
            "Epoch 133/200\n",
            "9/9 [==============================] - 0s 3ms/step - loss: 1.2809 - accuracy: 0.4569\n",
            "Epoch 134/200\n",
            "9/9 [==============================] - 0s 4ms/step - loss: 1.2695 - accuracy: 0.4534\n",
            "Epoch 135/200\n",
            "9/9 [==============================] - 0s 4ms/step - loss: 1.2722 - accuracy: 0.4510\n",
            "Epoch 136/200\n",
            "9/9 [==============================] - 0s 4ms/step - loss: 1.2732 - accuracy: 0.4471\n",
            "Epoch 137/200\n",
            "9/9 [==============================] - 0s 3ms/step - loss: 1.2827 - accuracy: 0.4513\n",
            "Epoch 138/200\n",
            "9/9 [==============================] - 0s 3ms/step - loss: 1.2804 - accuracy: 0.4538\n",
            "Epoch 139/200\n",
            "9/9 [==============================] - 0s 3ms/step - loss: 1.2725 - accuracy: 0.4531\n",
            "Epoch 140/200\n",
            "9/9 [==============================] - 0s 3ms/step - loss: 1.2771 - accuracy: 0.4557\n",
            "Epoch 141/200\n",
            "9/9 [==============================] - 0s 3ms/step - loss: 1.2725 - accuracy: 0.4517\n",
            "Epoch 142/200\n",
            "9/9 [==============================] - 0s 3ms/step - loss: 1.2620 - accuracy: 0.4552\n",
            "Epoch 143/200\n",
            "9/9 [==============================] - 0s 3ms/step - loss: 1.2762 - accuracy: 0.4552\n",
            "Epoch 144/200\n",
            "9/9 [==============================] - 0s 4ms/step - loss: 1.2746 - accuracy: 0.4483\n",
            "Epoch 145/200\n",
            "9/9 [==============================] - 0s 4ms/step - loss: 1.2717 - accuracy: 0.4527\n",
            "Epoch 146/200\n",
            "9/9 [==============================] - 0s 3ms/step - loss: 1.2667 - accuracy: 0.4571\n",
            "Epoch 147/200\n",
            "9/9 [==============================] - 0s 3ms/step - loss: 1.2691 - accuracy: 0.4562\n",
            "Epoch 148/200\n",
            "9/9 [==============================] - 0s 3ms/step - loss: 1.2774 - accuracy: 0.4536\n",
            "Epoch 149/200\n",
            "9/9 [==============================] - 0s 3ms/step - loss: 1.2727 - accuracy: 0.4566\n",
            "Epoch 150/200\n",
            "9/9 [==============================] - 0s 3ms/step - loss: 1.2734 - accuracy: 0.4557\n",
            "Epoch 151/200\n",
            "9/9 [==============================] - 0s 3ms/step - loss: 1.2662 - accuracy: 0.4569\n",
            "Epoch 152/200\n",
            "9/9 [==============================] - 0s 3ms/step - loss: 1.2736 - accuracy: 0.4531\n",
            "Epoch 153/200\n",
            "9/9 [==============================] - 0s 3ms/step - loss: 1.2750 - accuracy: 0.4552\n",
            "Epoch 154/200\n",
            "9/9 [==============================] - 0s 3ms/step - loss: 1.2650 - accuracy: 0.4517\n",
            "Epoch 155/200\n",
            "9/9 [==============================] - 0s 3ms/step - loss: 1.2649 - accuracy: 0.4557\n",
            "Epoch 156/200\n",
            "9/9 [==============================] - 0s 3ms/step - loss: 1.2637 - accuracy: 0.4545\n",
            "Epoch 157/200\n",
            "9/9 [==============================] - 0s 3ms/step - loss: 1.2608 - accuracy: 0.4536\n",
            "Epoch 158/200\n",
            "9/9 [==============================] - 0s 3ms/step - loss: 1.2608 - accuracy: 0.4576\n",
            "Epoch 159/200\n",
            "9/9 [==============================] - 0s 3ms/step - loss: 1.2779 - accuracy: 0.4543\n",
            "Epoch 160/200\n",
            "9/9 [==============================] - 0s 3ms/step - loss: 1.2844 - accuracy: 0.4531\n",
            "Epoch 161/200\n",
            "9/9 [==============================] - 0s 3ms/step - loss: 1.2744 - accuracy: 0.4562\n",
            "Epoch 162/200\n",
            "9/9 [==============================] - 0s 3ms/step - loss: 1.2774 - accuracy: 0.4531\n",
            "Epoch 163/200\n",
            "9/9 [==============================] - 0s 4ms/step - loss: 1.2942 - accuracy: 0.4524\n",
            "Epoch 164/200\n",
            "9/9 [==============================] - 0s 3ms/step - loss: 1.2714 - accuracy: 0.4541\n",
            "Epoch 165/200\n",
            "9/9 [==============================] - 0s 3ms/step - loss: 1.2723 - accuracy: 0.4517\n",
            "Epoch 166/200\n",
            "9/9 [==============================] - 0s 3ms/step - loss: 1.2712 - accuracy: 0.4557\n",
            "Epoch 167/200\n",
            "9/9 [==============================] - 0s 3ms/step - loss: 1.2682 - accuracy: 0.4524\n",
            "Epoch 168/200\n",
            "9/9 [==============================] - 0s 3ms/step - loss: 1.2676 - accuracy: 0.4541\n",
            "Epoch 169/200\n",
            "9/9 [==============================] - 0s 3ms/step - loss: 1.2661 - accuracy: 0.4552\n",
            "Epoch 170/200\n",
            "9/9 [==============================] - 0s 3ms/step - loss: 1.2685 - accuracy: 0.4562\n",
            "Epoch 171/200\n",
            "9/9 [==============================] - 0s 3ms/step - loss: 1.2626 - accuracy: 0.4550\n",
            "Epoch 172/200\n",
            "9/9 [==============================] - 0s 3ms/step - loss: 1.2646 - accuracy: 0.4587\n",
            "Epoch 173/200\n",
            "9/9 [==============================] - 0s 3ms/step - loss: 1.2669 - accuracy: 0.4545\n",
            "Epoch 174/200\n",
            "9/9 [==============================] - 0s 4ms/step - loss: 1.2648 - accuracy: 0.4550\n",
            "Epoch 175/200\n",
            "9/9 [==============================] - 0s 3ms/step - loss: 1.2718 - accuracy: 0.4592\n",
            "Epoch 176/200\n",
            "9/9 [==============================] - 0s 3ms/step - loss: 1.2666 - accuracy: 0.4550\n",
            "Epoch 177/200\n",
            "9/9 [==============================] - 0s 3ms/step - loss: 1.2667 - accuracy: 0.4576\n",
            "Epoch 178/200\n",
            "9/9 [==============================] - 0s 3ms/step - loss: 1.2672 - accuracy: 0.4531\n",
            "Epoch 179/200\n",
            "9/9 [==============================] - 0s 3ms/step - loss: 1.2699 - accuracy: 0.4522\n",
            "Epoch 180/200\n",
            "9/9 [==============================] - 0s 3ms/step - loss: 1.2548 - accuracy: 0.4580\n",
            "Epoch 181/200\n",
            "9/9 [==============================] - 0s 3ms/step - loss: 1.2603 - accuracy: 0.4611\n",
            "Epoch 182/200\n",
            "9/9 [==============================] - 0s 3ms/step - loss: 1.2576 - accuracy: 0.4585\n",
            "Epoch 183/200\n",
            "9/9 [==============================] - 0s 3ms/step - loss: 1.2603 - accuracy: 0.4583\n",
            "Epoch 184/200\n",
            "9/9 [==============================] - 0s 3ms/step - loss: 1.2558 - accuracy: 0.4573\n",
            "Epoch 185/200\n",
            "9/9 [==============================] - 0s 3ms/step - loss: 1.2619 - accuracy: 0.4566\n",
            "Epoch 186/200\n",
            "9/9 [==============================] - 0s 3ms/step - loss: 1.2649 - accuracy: 0.4524\n",
            "Epoch 187/200\n",
            "9/9 [==============================] - 0s 3ms/step - loss: 1.2598 - accuracy: 0.4594\n",
            "Epoch 188/200\n",
            "9/9 [==============================] - 0s 3ms/step - loss: 1.2539 - accuracy: 0.4625\n",
            "Epoch 189/200\n",
            "9/9 [==============================] - 0s 3ms/step - loss: 1.2628 - accuracy: 0.4594\n",
            "Epoch 190/200\n",
            "9/9 [==============================] - 0s 3ms/step - loss: 1.2649 - accuracy: 0.4548\n",
            "Epoch 191/200\n",
            "9/9 [==============================] - 0s 3ms/step - loss: 1.2594 - accuracy: 0.4599\n",
            "Epoch 192/200\n",
            "9/9 [==============================] - 0s 4ms/step - loss: 1.2710 - accuracy: 0.4564\n",
            "Epoch 193/200\n",
            "9/9 [==============================] - 0s 4ms/step - loss: 1.2693 - accuracy: 0.4522\n",
            "Epoch 194/200\n",
            "9/9 [==============================] - 0s 3ms/step - loss: 1.2575 - accuracy: 0.4646\n",
            "Epoch 195/200\n",
            "9/9 [==============================] - 0s 4ms/step - loss: 1.2715 - accuracy: 0.4601\n",
            "Epoch 196/200\n",
            "9/9 [==============================] - 0s 3ms/step - loss: 1.2758 - accuracy: 0.4531\n",
            "Epoch 197/200\n",
            "9/9 [==============================] - 0s 4ms/step - loss: 1.2708 - accuracy: 0.4597\n",
            "Epoch 198/200\n",
            "9/9 [==============================] - 0s 4ms/step - loss: 1.2725 - accuracy: 0.4557\n",
            "Epoch 199/200\n",
            "9/9 [==============================] - 0s 3ms/step - loss: 1.2554 - accuracy: 0.4632\n",
            "Epoch 200/200\n",
            "9/9 [==============================] - 0s 3ms/step - loss: 1.2544 - accuracy: 0.4629\n"
          ],
          "name": "stdout"
        },
        {
          "output_type": "execute_result",
          "data": {
            "text/plain": [
              "<tensorflow.python.keras.callbacks.History at 0x7f4caa25bb00>"
            ]
          },
          "metadata": {
            "tags": []
          },
          "execution_count": 47
        }
      ]
    },
    {
      "cell_type": "code",
      "metadata": {
        "id": "Hl7Sn4K2dvjF",
        "colab_type": "code",
        "colab": {}
      },
      "source": [
        "last_date = df['date'].iloc[-1]\n",
        "last_date = datetime.datetime.strptime(last_date, \"%Y-%m-%d\").date()\n",
        "\n",
        "pred_date = []\n",
        "for i in range(1, 91):\n",
        "    pred_date.append(last_date + datetime.timedelta(days=i))\n",
        "\n",
        "pred_input = [[] for i in range(90)]\n",
        "i = 0\n",
        "for j in pred_date:\n",
        "    pred_input[i].append(j.day)\n",
        "    pred_input[i].append(j.month)\n",
        "    i += 1"
      ],
      "execution_count": 0,
      "outputs": []
    },
    {
      "cell_type": "code",
      "metadata": {
        "id": "2rxaSz8nvFcb",
        "colab_type": "code",
        "outputId": "c54d18ad-35d2-4795-b191-17a90a1b358a",
        "colab": {
          "base_uri": "https://localhost:8080/",
          "height": 419
        }
      },
      "source": [
        "sample = pd.DataFrame(\n",
        "    columns=['day', 'month'],\n",
        "    data=pred_input\n",
        ")\n",
        "sample"
      ],
      "execution_count": 49,
      "outputs": [
        {
          "output_type": "execute_result",
          "data": {
            "text/html": [
              "<div>\n",
              "<style scoped>\n",
              "    .dataframe tbody tr th:only-of-type {\n",
              "        vertical-align: middle;\n",
              "    }\n",
              "\n",
              "    .dataframe tbody tr th {\n",
              "        vertical-align: top;\n",
              "    }\n",
              "\n",
              "    .dataframe thead th {\n",
              "        text-align: right;\n",
              "    }\n",
              "</style>\n",
              "<table border=\"1\" class=\"dataframe\">\n",
              "  <thead>\n",
              "    <tr style=\"text-align: right;\">\n",
              "      <th></th>\n",
              "      <th>day</th>\n",
              "      <th>month</th>\n",
              "    </tr>\n",
              "  </thead>\n",
              "  <tbody>\n",
              "    <tr>\n",
              "      <th>0</th>\n",
              "      <td>30</td>\n",
              "      <td>3</td>\n",
              "    </tr>\n",
              "    <tr>\n",
              "      <th>1</th>\n",
              "      <td>31</td>\n",
              "      <td>3</td>\n",
              "    </tr>\n",
              "    <tr>\n",
              "      <th>2</th>\n",
              "      <td>1</td>\n",
              "      <td>4</td>\n",
              "    </tr>\n",
              "    <tr>\n",
              "      <th>3</th>\n",
              "      <td>2</td>\n",
              "      <td>4</td>\n",
              "    </tr>\n",
              "    <tr>\n",
              "      <th>4</th>\n",
              "      <td>3</td>\n",
              "      <td>4</td>\n",
              "    </tr>\n",
              "    <tr>\n",
              "      <th>...</th>\n",
              "      <td>...</td>\n",
              "      <td>...</td>\n",
              "    </tr>\n",
              "    <tr>\n",
              "      <th>85</th>\n",
              "      <td>23</td>\n",
              "      <td>6</td>\n",
              "    </tr>\n",
              "    <tr>\n",
              "      <th>86</th>\n",
              "      <td>24</td>\n",
              "      <td>6</td>\n",
              "    </tr>\n",
              "    <tr>\n",
              "      <th>87</th>\n",
              "      <td>25</td>\n",
              "      <td>6</td>\n",
              "    </tr>\n",
              "    <tr>\n",
              "      <th>88</th>\n",
              "      <td>26</td>\n",
              "      <td>6</td>\n",
              "    </tr>\n",
              "    <tr>\n",
              "      <th>89</th>\n",
              "      <td>27</td>\n",
              "      <td>6</td>\n",
              "    </tr>\n",
              "  </tbody>\n",
              "</table>\n",
              "<p>90 rows × 2 columns</p>\n",
              "</div>"
            ],
            "text/plain": [
              "    day  month\n",
              "0    30      3\n",
              "1    31      3\n",
              "2     1      4\n",
              "3     2      4\n",
              "4     3      4\n",
              "..  ...    ...\n",
              "85   23      6\n",
              "86   24      6\n",
              "87   25      6\n",
              "88   26      6\n",
              "89   27      6\n",
              "\n",
              "[90 rows x 2 columns]"
            ]
          },
          "metadata": {
            "tags": []
          },
          "execution_count": 49
        }
      ]
    },
    {
      "cell_type": "code",
      "metadata": {
        "id": "kRO0569RyVUt",
        "colab_type": "code",
        "outputId": "8901a588-1192-48ef-f5a3-c2cffc414101",
        "colab": {
          "base_uri": "https://localhost:8080/",
          "height": 1000
        }
      },
      "source": [
        "sample_p = model.predict(sample)\n",
        "sample_p"
      ],
      "execution_count": 50,
      "outputs": [
        {
          "output_type": "execute_result",
          "data": {
            "text/plain": [
              "array([[4.42497246e-03, 2.22043302e-02, 8.42822250e-04, 2.20614344e-01,\n",
              "        6.46043122e-02, 1.45201385e-02, 2.68459260e-01, 4.04329866e-01],\n",
              "       [5.11397189e-03, 2.22670771e-02, 9.54478106e-04, 2.26151228e-01,\n",
              "        6.82713315e-02, 1.64848156e-02, 2.67613471e-01, 3.93143564e-01],\n",
              "       [9.40424143e-05, 9.53060342e-04, 3.16396296e-07, 1.01511985e-01,\n",
              "        1.24699110e-02, 9.67717147e-04, 3.18901002e-01, 5.65101981e-01],\n",
              "       [2.38175267e-06, 7.62486161e-05, 6.00944072e-10, 4.34233695e-02,\n",
              "        2.44121882e-03, 2.67559808e-05, 3.52486879e-01, 6.01543128e-01],\n",
              "       [3.74402384e-06, 1.01678394e-04, 1.23000277e-09, 4.80431281e-02,\n",
              "        2.85738078e-03, 4.64595578e-05, 3.24228972e-01, 6.24718606e-01],\n",
              "       [3.09192219e-05, 3.74365132e-04, 3.33175869e-08, 6.33661821e-02,\n",
              "        8.97531677e-03, 5.43772127e-04, 3.10730755e-01, 6.15978658e-01],\n",
              "       [1.44342179e-04, 9.08125367e-04, 3.43376684e-07, 7.12380186e-02,\n",
              "        2.48206016e-02, 3.79103445e-03, 3.44326764e-01, 5.54770827e-01],\n",
              "       [2.77420681e-04, 1.34760048e-03, 9.39867846e-07, 7.69089907e-02,\n",
              "        3.57981138e-02, 7.80538516e-03, 3.57013643e-01, 5.20847857e-01],\n",
              "       [2.40632682e-04, 1.22374087e-03, 8.41802660e-07, 8.09548199e-02,\n",
              "        3.18708606e-02, 6.77759899e-03, 3.75161052e-01, 5.03770530e-01],\n",
              "       [1.78264760e-04, 1.02413085e-03, 5.92569677e-07, 8.49897861e-02,\n",
              "        2.50699352e-02, 4.74060327e-03, 3.90241742e-01, 4.93754923e-01],\n",
              "       [1.45750993e-04, 8.98337748e-04, 4.63951807e-07, 8.95378888e-02,\n",
              "        2.17882711e-02, 4.07952303e-03, 4.02654856e-01, 4.80894864e-01],\n",
              "       [1.20403827e-04, 8.13771738e-04, 4.13866445e-07, 1.03195652e-01,\n",
              "        1.79978292e-02, 3.45061463e-03, 4.22044784e-01, 4.52376425e-01],\n",
              "       [9.54677889e-05, 7.41764088e-04, 3.72773144e-07, 1.20993406e-01,\n",
              "        1.43115381e-02, 2.59081926e-03, 4.44867581e-01, 4.16399062e-01],\n",
              "       [7.78262620e-05, 6.93457900e-04, 3.67344882e-07, 1.42360881e-01,\n",
              "        1.16504934e-02, 1.95388775e-03, 4.61987525e-01, 3.81275535e-01],\n",
              "       [8.08232508e-05, 7.74651882e-04, 4.66657355e-07, 1.57511249e-01,\n",
              "        1.18397102e-02, 1.70825899e-03, 4.47459161e-01, 3.80625635e-01],\n",
              "       [6.23311716e-05, 7.28435814e-04, 3.43617955e-07, 1.62941620e-01,\n",
              "        9.84662864e-03, 1.03154336e-03, 4.20924902e-01, 4.04464215e-01],\n",
              "       [4.51504420e-05, 6.71955408e-04, 2.30049920e-07, 1.65777728e-01,\n",
              "        8.16804077e-03, 6.53790659e-04, 3.98635030e-01, 4.26048130e-01],\n",
              "       [3.35038712e-05, 6.68434601e-04, 1.67797310e-07, 1.71534300e-01,\n",
              "        6.85434928e-03, 4.21902427e-04, 3.71341050e-01, 4.49146241e-01],\n",
              "       [5.69675249e-05, 9.83172562e-04, 4.55018380e-07, 1.90772012e-01,\n",
              "        9.22229514e-03, 6.64294930e-04, 3.69457752e-01, 4.28843021e-01],\n",
              "       [2.03147167e-04, 1.94892788e-03, 3.62345668e-06, 2.19721243e-01,\n",
              "        1.89092774e-02, 2.41012219e-03, 3.91298324e-01, 3.65505338e-01],\n",
              "       [4.76868619e-04, 2.99853412e-03, 1.37148445e-05, 2.40713760e-01,\n",
              "        3.05731297e-02, 5.20545663e-03, 3.87565255e-01, 3.32453340e-01],\n",
              "       [6.10374031e-04, 3.59259406e-03, 2.10529943e-05, 2.38685668e-01,\n",
              "        3.49298492e-02, 6.01402204e-03, 3.88206691e-01, 3.27939749e-01],\n",
              "       [6.85856736e-04, 4.11723275e-03, 2.72756060e-05, 2.35124722e-01,\n",
              "        3.74230742e-02, 6.36479538e-03, 3.88162881e-01, 3.28094214e-01],\n",
              "       [6.69842993e-04, 4.68870392e-03, 3.06196198e-05, 2.32529014e-01,\n",
              "        3.70441414e-02, 5.98122226e-03, 3.74432087e-01, 3.44624370e-01],\n",
              "       [6.04051573e-04, 5.34551544e-03, 3.35531549e-05, 2.24442199e-01,\n",
              "        3.40641923e-02, 4.83178813e-03, 3.49492401e-01, 3.81186277e-01],\n",
              "       [5.03606338e-04, 6.45046216e-03, 3.53670766e-05, 2.18219504e-01,\n",
              "        3.01016923e-02, 3.48952739e-03, 3.17118138e-01, 4.24081743e-01],\n",
              "       [4.18108277e-04, 7.74551556e-03, 3.57800745e-05, 2.09317639e-01,\n",
              "        2.76943687e-02, 2.49105087e-03, 2.97190249e-01, 4.55107272e-01],\n",
              "       [4.82597010e-04, 1.08946851e-02, 4.51034139e-05, 1.85743004e-01,\n",
              "        2.85702497e-02, 2.22737179e-03, 3.28492314e-01, 4.43544686e-01],\n",
              "       [6.01858133e-04, 1.34516256e-02, 4.98305708e-05, 1.49380192e-01,\n",
              "        2.98783518e-02, 2.16831733e-03, 3.84162962e-01, 4.20306832e-01],\n",
              "       [6.77110453e-04, 1.46210017e-02, 4.85279052e-05, 1.21547058e-01,\n",
              "        2.99394410e-02, 1.97241502e-03, 4.32944447e-01, 3.98249984e-01],\n",
              "       [7.74480402e-04, 1.42566785e-02, 5.07972109e-05, 1.05550334e-01,\n",
              "        3.20905931e-02, 2.00539804e-03, 4.60851818e-01, 3.84419858e-01],\n",
              "       [8.57396808e-04, 1.39600597e-02, 5.61571323e-05, 1.02243803e-01,\n",
              "        3.42174843e-02, 2.15792842e-03, 4.65867728e-01, 3.80639464e-01],\n",
              "       [9.15615510e-06, 1.67145277e-04, 4.67090144e-09, 4.54287902e-02,\n",
              "        5.42418566e-03, 5.67322459e-05, 4.50842857e-01, 4.98071164e-01],\n",
              "       [1.92397692e-06, 2.41845028e-05, 9.26824936e-11, 7.36317504e-03,\n",
              "        7.24609243e-03, 1.21390067e-05, 5.45972288e-01, 4.39380229e-01],\n",
              "       [2.59825720e-06, 2.79804772e-05, 1.30687947e-10, 6.65517850e-03,\n",
              "        9.23679955e-03, 1.66961036e-05, 5.36181331e-01, 4.47879404e-01],\n",
              "       [4.39990345e-06, 6.46090193e-05, 5.82370707e-10, 1.59708448e-02,\n",
              "        6.85871113e-03, 2.92626282e-05, 4.71739739e-01, 5.05332410e-01],\n",
              "       [9.66271909e-06, 1.73305467e-04, 4.20941904e-09, 3.89661156e-02,\n",
              "        5.81304217e-03, 6.95976560e-05, 4.01551187e-01, 5.53417087e-01],\n",
              "       [1.94353834e-05, 3.30227951e-04, 1.93231333e-08, 6.34383336e-02,\n",
              "        6.05687080e-03, 1.50716820e-04, 3.56609643e-01, 5.73394775e-01],\n",
              "       [2.66726347e-05, 4.23491176e-04, 3.53040193e-08, 7.28761181e-02,\n",
              "        6.47457177e-03, 2.08580794e-04, 3.41577977e-01, 5.78412592e-01],\n",
              "       [2.87520961e-05, 4.58712515e-04, 4.29011067e-08, 7.91919306e-02,\n",
              "        6.28390629e-03, 2.33957529e-04, 3.27041715e-01, 5.86761057e-01],\n",
              "       [2.50334633e-05, 4.26869403e-04, 3.48480036e-08, 7.76964054e-02,\n",
              "        5.84208872e-03, 1.95488363e-04, 3.32106411e-01, 5.83707631e-01],\n",
              "       [2.18730165e-05, 3.92928050e-04, 2.74881859e-08, 7.36330524e-02,\n",
              "        5.60982618e-03, 1.60470285e-04, 3.43025684e-01, 5.77156126e-01],\n",
              "       [1.66716072e-05, 3.32035794e-04, 1.79888744e-08, 7.11063221e-02,\n",
              "        4.91742557e-03, 1.23098886e-04, 3.45378339e-01, 5.78126132e-01],\n",
              "       [1.19040460e-05, 2.62980728e-04, 1.01297140e-08, 6.53544813e-02,\n",
              "        4.32216423e-03, 8.90957745e-05, 3.51239920e-01, 5.78719378e-01],\n",
              "       [1.00804391e-05, 2.21884140e-04, 6.68405509e-09, 5.49539588e-02,\n",
              "        4.50535957e-03, 6.85774576e-05, 3.78393292e-01, 5.61846852e-01],\n",
              "       [9.29374437e-06, 1.84097589e-04, 4.73263784e-09, 4.38018553e-02,\n",
              "        5.06989239e-03, 5.25771211e-05, 4.23144728e-01, 5.27737498e-01],\n",
              "       [8.36447271e-06, 1.52229768e-04, 3.47392737e-09, 3.71713825e-02,\n",
              "        5.32751763e-03, 4.00665049e-05, 4.67285872e-01, 4.90014613e-01],\n",
              "       [5.66214203e-06, 1.44286823e-04, 2.89841795e-09, 5.27189448e-02,\n",
              "        3.35256243e-03, 2.57830470e-05, 4.68481272e-01, 4.75271463e-01],\n",
              "       [6.97007681e-06, 2.39740781e-04, 6.94747637e-09, 8.10550153e-02,\n",
              "        3.15687689e-03, 3.34599754e-05, 4.25771564e-01, 4.89736319e-01],\n",
              "       [7.80980918e-06, 2.87214643e-04, 9.83533166e-09, 9.07521099e-02,\n",
              "        3.34052485e-03, 3.70236412e-05, 4.24042821e-01, 4.81532425e-01],\n",
              "       [7.23301127e-06, 2.14521351e-04, 6.70118672e-09, 7.27936253e-02,\n",
              "        3.54305399e-03, 2.85858696e-05, 4.81775403e-01, 4.41637576e-01],\n",
              "       [6.72170381e-06, 1.56417387e-04, 4.54325244e-09, 5.67680411e-02,\n",
              "        3.76415555e-03, 2.20905422e-05, 5.41543424e-01, 3.97739053e-01],\n",
              "       [6.21542358e-06, 1.12810107e-04, 3.75330877e-09, 3.93282883e-02,\n",
              "        4.05756384e-03, 1.75090427e-05, 5.84030211e-01, 3.72447431e-01],\n",
              "       [4.10295343e-06, 6.68770736e-05, 2.08505080e-09, 2.49257609e-02,\n",
              "        3.80664342e-03, 1.10504352e-05, 6.08617365e-01, 3.62568200e-01],\n",
              "       [2.64724076e-06, 4.20523756e-05, 1.10365028e-09, 1.73989423e-02,\n",
              "        3.48797394e-03, 7.16357317e-06, 6.23441041e-01, 3.55620205e-01],\n",
              "       [2.19275125e-06, 3.55758020e-05, 9.99355820e-10, 1.49093596e-02,\n",
              "        3.37799126e-03, 6.08651089e-06, 6.20573759e-01, 3.61095011e-01],\n",
              "       [2.66747429e-06, 4.36829177e-05, 2.04974260e-09, 1.44456001e-02,\n",
              "        3.91384866e-03, 7.69677627e-06, 6.00793779e-01, 3.80792737e-01],\n",
              "       [3.15427519e-06, 5.59490582e-05, 4.46063009e-09, 1.43262912e-02,\n",
              "        4.65327501e-03, 9.56951953e-06, 6.00390136e-01, 3.80561590e-01],\n",
              "       [3.76978801e-06, 6.19573839e-05, 8.42721448e-09, 1.17446370e-02,\n",
              "        5.71194245e-03, 1.12162988e-05, 6.08882070e-01, 3.73584419e-01],\n",
              "       [5.11802909e-06, 7.51104817e-05, 1.40572345e-08, 8.67346395e-03,\n",
              "        6.28595520e-03, 1.22061920e-05, 6.16347194e-01, 3.68600965e-01],\n",
              "       [6.44434840e-06, 9.60496836e-05, 1.92692067e-08, 8.07252806e-03,\n",
              "        6.62216917e-03, 1.36043836e-05, 6.35179162e-01, 3.50010037e-01],\n",
              "       [8.35824176e-06, 1.32883390e-04, 2.79647150e-08, 8.35264474e-03,\n",
              "        7.07371766e-03, 1.62438591e-05, 6.51987195e-01, 3.32428932e-01],\n",
              "       [1.34352458e-05, 2.40913796e-04, 5.56758835e-08, 1.06676221e-02,\n",
              "        8.15181155e-03, 2.51078127e-05, 6.68718576e-01, 3.12182486e-01],\n",
              "       [1.62639353e-05, 5.47908894e-05, 1.90474614e-09, 3.82132921e-03,\n",
              "        3.71350870e-02, 6.54876785e-05, 6.32246673e-01, 3.26660365e-01],\n",
              "       [9.67588039e-06, 1.43416109e-05, 4.01174677e-10, 5.60339948e-04,\n",
              "        8.98780152e-02, 4.18121417e-05, 6.62107408e-01, 2.47388333e-01],\n",
              "       [9.20771708e-06, 1.66811024e-05, 3.45890511e-10, 7.72304251e-04,\n",
              "        7.50345141e-02, 4.22179437e-05, 6.58276081e-01, 2.65849024e-01],\n",
              "       [1.83469347e-05, 3.99071141e-05, 1.37328604e-09, 1.76284998e-03,\n",
              "        6.69028759e-02, 7.90988634e-05, 6.35396123e-01, 2.95800835e-01],\n",
              "       [3.02390836e-05, 1.02338097e-04, 4.97184072e-09, 5.36721852e-03,\n",
              "        4.36391570e-02, 1.29126391e-04, 5.87852120e-01, 3.62879813e-01],\n",
              "       [7.78867761e-05, 1.61643155e-04, 2.14971259e-08, 4.57591191e-03,\n",
              "        8.17551389e-02, 2.92582816e-04, 5.92437088e-01, 3.20699722e-01],\n",
              "       [1.18181633e-04, 1.45450336e-04, 3.75791771e-08, 2.39182869e-03,\n",
              "        1.48553386e-01, 4.30933520e-04, 5.77458560e-01, 2.70901680e-01],\n",
              "       [2.13603038e-04, 1.57735049e-04, 7.79147129e-08, 1.54376030e-03,\n",
              "        2.37309217e-01, 5.81258209e-04, 5.61661124e-01, 1.98533207e-01],\n",
              "       [3.14696896e-04, 1.87336307e-04, 1.30279702e-07, 1.37557404e-03,\n",
              "        2.84223080e-01, 7.09223270e-04, 5.42935252e-01, 1.70254678e-01],\n",
              "       [2.97444523e-04, 2.12696512e-04, 1.26785352e-07, 1.84729625e-03,\n",
              "        2.50880778e-01, 7.91422266e-04, 5.45646966e-01, 2.00323254e-01],\n",
              "       [3.59228929e-04, 2.01494957e-04, 1.50420533e-07, 1.30881346e-03,\n",
              "        3.02977383e-01, 7.75883847e-04, 5.30425489e-01, 1.63951561e-01],\n",
              "       [3.56096571e-04, 1.84543242e-04, 1.48013584e-07, 1.16332876e-03,\n",
              "        3.05295140e-01, 6.95455063e-04, 5.39204419e-01, 1.53100848e-01],\n",
              "       [3.24145687e-04, 1.65828111e-04, 1.19074535e-07, 1.04145810e-03,\n",
              "        3.08817476e-01, 6.37321267e-04, 5.38440585e-01, 1.50573030e-01],\n",
              "       [2.70499382e-04, 1.37579846e-04, 8.10471334e-08, 8.79860774e-04,\n",
              "        3.11557680e-01, 5.46591822e-04, 5.38682103e-01, 1.47925600e-01],\n",
              "       [2.21281633e-04, 1.12274378e-04, 5.63190738e-08, 7.45698984e-04,\n",
              "        3.07909310e-01, 4.49447980e-04, 5.45193970e-01, 1.45367935e-01],\n",
              "       [1.68254468e-04, 8.70187214e-05, 3.91171966e-08, 6.37655205e-04,\n",
              "        2.89403439e-01, 3.34128301e-04, 5.65237641e-01, 1.44131869e-01],\n",
              "       [1.76068468e-04, 9.85735969e-05, 5.48576367e-08, 7.48061924e-04,\n",
              "        2.71304637e-01, 3.39606835e-04, 5.74688077e-01, 1.52644962e-01],\n",
              "       [1.95702843e-04, 1.19448341e-04, 8.83413733e-08, 9.55747615e-04,\n",
              "        2.48614252e-01, 3.70935944e-04, 5.83051562e-01, 1.66692272e-01],\n",
              "       [1.84805816e-04, 1.36019138e-04, 1.20391107e-07, 1.25484483e-03,\n",
              "        1.97679505e-01, 3.49754759e-04, 6.03744268e-01, 1.96650594e-01],\n",
              "       [2.18109359e-04, 1.70230327e-04, 1.64213219e-07, 1.54310290e-03,\n",
              "        2.01435998e-01, 4.39070165e-04, 5.88600576e-01, 2.07592726e-01],\n",
              "       [2.43767819e-04, 1.82520642e-04, 2.09050199e-07, 1.50074624e-03,\n",
              "        2.01955304e-01, 4.36015020e-04, 5.93204677e-01, 2.02476755e-01],\n",
              "       [1.97455447e-04, 1.41312747e-04, 1.54410415e-07, 1.18614419e-03,\n",
              "        1.80933803e-01, 3.08630260e-04, 6.18461728e-01, 1.98770836e-01],\n",
              "       [1.21226716e-04, 8.94335390e-05, 7.14777713e-08, 8.96167126e-04,\n",
              "        1.42172322e-01, 1.77153735e-04, 6.51386082e-01, 2.05157518e-01],\n",
              "       [8.01761635e-05, 6.27456975e-05, 3.66464405e-08, 7.16522045e-04,\n",
              "        1.11896858e-01, 1.12590271e-04, 6.77239835e-01, 2.09891260e-01],\n",
              "       [5.18225279e-05, 4.28169405e-05, 1.75816641e-08, 5.48999640e-04,\n",
              "        9.11773592e-02, 7.20440366e-05, 6.97019994e-01, 2.11086974e-01],\n",
              "       [3.00148477e-05, 2.37914610e-05, 5.98938454e-09, 3.41092469e-04,\n",
              "        8.71217847e-02, 4.20117831e-05, 7.16511786e-01, 1.95929557e-01],\n",
              "       [1.85890513e-05, 1.44772230e-05, 2.41408205e-09, 2.26441131e-04,\n",
              "        8.37799981e-02, 2.64330720e-05, 7.29357719e-01, 1.86576277e-01]],\n",
              "      dtype=float32)"
            ]
          },
          "metadata": {
            "tags": []
          },
          "execution_count": 50
        }
      ]
    },
    {
      "cell_type": "code",
      "metadata": {
        "id": "P1_qhhwGzBA4",
        "colab_type": "code",
        "outputId": "274047e2-60cb-4aa8-9403-ca9a13c758c1",
        "colab": {
          "base_uri": "https://localhost:8080/",
          "height": 54
        }
      },
      "source": [
        "sample_pred = [0 for i in range(len(sample_p))]\n",
        "for i in range(len(sample_p)):\n",
        "    maxm = max(sample_p[i])\n",
        "    for j in range(len(sample_p[i])):\n",
        "        if sample_p[i][j] == maxm:\n",
        "            index = j\n",
        "    sample_pred[i] = index\n",
        "print(sample_pred)"
      ],
      "execution_count": 51,
      "outputs": [
        {
          "output_type": "stream",
          "text": [
            "[7, 7, 7, 7, 7, 7, 7, 7, 7, 7, 7, 7, 6, 6, 6, 6, 7, 7, 7, 6, 6, 6, 6, 6, 7, 7, 7, 7, 7, 6, 6, 6, 7, 6, 6, 7, 7, 7, 7, 7, 7, 7, 7, 7, 7, 7, 7, 7, 7, 7, 6, 6, 6, 6, 6, 6, 6, 6, 6, 6, 6, 6, 6, 6, 6, 6, 6, 6, 6, 6, 6, 6, 6, 6, 6, 6, 6, 6, 6, 6, 6, 6, 6, 6, 6, 6, 6, 6, 6, 6]\n"
          ],
          "name": "stdout"
        }
      ]
    },
    {
      "cell_type": "code",
      "metadata": {
        "id": "zCFMLkQhzS-C",
        "colab_type": "code",
        "outputId": "d8de07ed-645a-458c-94da-65a6060fe5e5",
        "colab": {
          "base_uri": "https://localhost:8080/",
          "height": 153
        }
      },
      "source": [
        "directions = le_pred.inverse_transform(sample_pred)\n",
        "directions"
      ],
      "execution_count": 52,
      "outputs": [
        {
          "output_type": "execute_result",
          "data": {
            "text/plain": [
              "array(['W', 'W', 'W', 'W', 'W', 'W', 'W', 'W', 'W', 'W', 'W', 'W', 'SW',\n",
              "       'SW', 'SW', 'SW', 'W', 'W', 'W', 'SW', 'SW', 'SW', 'SW', 'SW', 'W',\n",
              "       'W', 'W', 'W', 'W', 'SW', 'SW', 'SW', 'W', 'SW', 'SW', 'W', 'W',\n",
              "       'W', 'W', 'W', 'W', 'W', 'W', 'W', 'W', 'W', 'W', 'W', 'W', 'W',\n",
              "       'SW', 'SW', 'SW', 'SW', 'SW', 'SW', 'SW', 'SW', 'SW', 'SW', 'SW',\n",
              "       'SW', 'SW', 'SW', 'SW', 'SW', 'SW', 'SW', 'SW', 'SW', 'SW', 'SW',\n",
              "       'SW', 'SW', 'SW', 'SW', 'SW', 'SW', 'SW', 'SW', 'SW', 'SW', 'SW',\n",
              "       'SW', 'SW', 'SW', 'SW', 'SW', 'SW', 'SW'], dtype=object)"
            ]
          },
          "metadata": {
            "tags": []
          },
          "execution_count": 52
        }
      ]
    },
    {
      "cell_type": "code",
      "metadata": {
        "id": "wpUoeGEChINF",
        "colab_type": "code",
        "colab": {
          "base_uri": "https://localhost:8080/",
          "height": 153
        },
        "outputId": "3a95bd77-6231-4783-e58a-5a97b29f269d"
      },
      "source": [
        "for i in range(len(directions)):\n",
        "    if directions[i] == 'N':\n",
        "        c = np.random.randint(0, 1)\n",
        "        if c == 0:\n",
        "            directions[i] = np.random.randint(0, 22.5)\n",
        "        elif c == 1:\n",
        "            directions[i] = np.random.randint(337.5, 360)\n",
        "    elif directions[i] == 'NE':\n",
        "        directions[i] = np.random.randint(22.5, 67.5)\n",
        "    elif directions[i] == 'E':\n",
        "        directions[i] = np.random.randint(67.5, 112.5)\n",
        "    elif directions[i] == 'SE':\n",
        "        directions[i] = np.random.randint(112.5, 157.5)\n",
        "    elif directions[i] == 'S':\n",
        "        directions[i] = np.random.randint(157.5, 202.5)\n",
        "    elif directions[i] == 'SW':\n",
        "        directions[i] = np.random.randint(202.5, 247.5)\n",
        "    elif directions[i] == 'W':\n",
        "        directions[i] = np.random.randint(247.5, 292.5)\n",
        "    elif directions[i] == 'NW':\n",
        "        directions[i] = np.random.randint(292.5, 337.5)\n",
        "directions"
      ],
      "execution_count": 53,
      "outputs": [
        {
          "output_type": "execute_result",
          "data": {
            "text/plain": [
              "array([283, 275, 286, 276, 268, 260, 288, 250, 272, 251, 251, 253, 224,\n",
              "       222, 239, 238, 252, 247, 262, 207, 242, 234, 229, 240, 261, 249,\n",
              "       270, 279, 287, 234, 240, 239, 282, 232, 237, 259, 288, 278, 280,\n",
              "       253, 254, 260, 285, 272, 273, 258, 265, 268, 273, 280, 211, 237,\n",
              "       205, 236, 204, 226, 234, 204, 231, 209, 212, 233, 207, 245, 211,\n",
              "       206, 209, 203, 206, 206, 239, 219, 203, 231, 207, 226, 230, 212,\n",
              "       211, 210, 230, 222, 242, 221, 234, 206, 237, 242, 245, 227],\n",
              "      dtype=object)"
            ]
          },
          "metadata": {
            "tags": []
          },
          "execution_count": 53
        }
      ]
    },
    {
      "cell_type": "code",
      "metadata": {
        "id": "y_BYgTA5fIoy",
        "colab_type": "code",
        "colab": {}
      },
      "source": [
        "pred_data = pd.DataFrame(\n",
        "    columns=['date', 'direction', 'speed']\n",
        ")"
      ],
      "execution_count": 0,
      "outputs": []
    },
    {
      "cell_type": "code",
      "metadata": {
        "id": "jVUUYLlJffiO",
        "colab_type": "code",
        "colab": {
          "base_uri": "https://localhost:8080/",
          "height": 419
        },
        "outputId": "ffdb6749-c3df-41ec-9714-b80db62b1603"
      },
      "source": [
        "pred_data['date'] = pred_date\n",
        "pred_data['direction'] = directions\n",
        "pred_data"
      ],
      "execution_count": 57,
      "outputs": [
        {
          "output_type": "execute_result",
          "data": {
            "text/html": [
              "<div>\n",
              "<style scoped>\n",
              "    .dataframe tbody tr th:only-of-type {\n",
              "        vertical-align: middle;\n",
              "    }\n",
              "\n",
              "    .dataframe tbody tr th {\n",
              "        vertical-align: top;\n",
              "    }\n",
              "\n",
              "    .dataframe thead th {\n",
              "        text-align: right;\n",
              "    }\n",
              "</style>\n",
              "<table border=\"1\" class=\"dataframe\">\n",
              "  <thead>\n",
              "    <tr style=\"text-align: right;\">\n",
              "      <th></th>\n",
              "      <th>date</th>\n",
              "      <th>direction</th>\n",
              "      <th>speed</th>\n",
              "    </tr>\n",
              "  </thead>\n",
              "  <tbody>\n",
              "    <tr>\n",
              "      <th>0</th>\n",
              "      <td>2020-03-30</td>\n",
              "      <td>283</td>\n",
              "      <td>NaN</td>\n",
              "    </tr>\n",
              "    <tr>\n",
              "      <th>1</th>\n",
              "      <td>2020-03-31</td>\n",
              "      <td>275</td>\n",
              "      <td>NaN</td>\n",
              "    </tr>\n",
              "    <tr>\n",
              "      <th>2</th>\n",
              "      <td>2020-04-01</td>\n",
              "      <td>286</td>\n",
              "      <td>NaN</td>\n",
              "    </tr>\n",
              "    <tr>\n",
              "      <th>3</th>\n",
              "      <td>2020-04-02</td>\n",
              "      <td>276</td>\n",
              "      <td>NaN</td>\n",
              "    </tr>\n",
              "    <tr>\n",
              "      <th>4</th>\n",
              "      <td>2020-04-03</td>\n",
              "      <td>268</td>\n",
              "      <td>NaN</td>\n",
              "    </tr>\n",
              "    <tr>\n",
              "      <th>...</th>\n",
              "      <td>...</td>\n",
              "      <td>...</td>\n",
              "      <td>...</td>\n",
              "    </tr>\n",
              "    <tr>\n",
              "      <th>85</th>\n",
              "      <td>2020-06-23</td>\n",
              "      <td>206</td>\n",
              "      <td>NaN</td>\n",
              "    </tr>\n",
              "    <tr>\n",
              "      <th>86</th>\n",
              "      <td>2020-06-24</td>\n",
              "      <td>237</td>\n",
              "      <td>NaN</td>\n",
              "    </tr>\n",
              "    <tr>\n",
              "      <th>87</th>\n",
              "      <td>2020-06-25</td>\n",
              "      <td>242</td>\n",
              "      <td>NaN</td>\n",
              "    </tr>\n",
              "    <tr>\n",
              "      <th>88</th>\n",
              "      <td>2020-06-26</td>\n",
              "      <td>245</td>\n",
              "      <td>NaN</td>\n",
              "    </tr>\n",
              "    <tr>\n",
              "      <th>89</th>\n",
              "      <td>2020-06-27</td>\n",
              "      <td>227</td>\n",
              "      <td>NaN</td>\n",
              "    </tr>\n",
              "  </tbody>\n",
              "</table>\n",
              "<p>90 rows × 3 columns</p>\n",
              "</div>"
            ],
            "text/plain": [
              "          date direction speed\n",
              "0   2020-03-30       283   NaN\n",
              "1   2020-03-31       275   NaN\n",
              "2   2020-04-01       286   NaN\n",
              "3   2020-04-02       276   NaN\n",
              "4   2020-04-03       268   NaN\n",
              "..         ...       ...   ...\n",
              "85  2020-06-23       206   NaN\n",
              "86  2020-06-24       237   NaN\n",
              "87  2020-06-25       242   NaN\n",
              "88  2020-06-26       245   NaN\n",
              "89  2020-06-27       227   NaN\n",
              "\n",
              "[90 rows x 3 columns]"
            ]
          },
          "metadata": {
            "tags": []
          },
          "execution_count": 57
        }
      ]
    },
    {
      "cell_type": "code",
      "metadata": {
        "id": "nijZVRA6g3NO",
        "colab_type": "code",
        "colab": {}
      },
      "source": [
        "pred_data.to_csv('gdrive/My Drive/tarapur.csv', mode='a', header=False)"
      ],
      "execution_count": 0,
      "outputs": []
    },
    {
      "cell_type": "code",
      "metadata": {
        "id": "pk1K9rTrImAv",
        "colab_type": "code",
        "colab": {}
      },
      "source": [
        ""
      ],
      "execution_count": 0,
      "outputs": []
    }
  ]
}